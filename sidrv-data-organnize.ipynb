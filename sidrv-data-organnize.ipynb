{
 "cells": [
  {
   "cell_type": "code",
   "execution_count": 1,
   "id": "e1d16813",
   "metadata": {
    "execution": {
     "iopub.execute_input": "2022-04-26T12:43:15.489193Z",
     "iopub.status.busy": "2022-04-26T12:43:15.488344Z",
     "iopub.status.idle": "2022-04-26T12:43:16.629014Z",
     "shell.execute_reply": "2022-04-26T12:43:16.628194Z"
    },
    "executionInfo": {
     "elapsed": 4229,
     "status": "ok",
     "timestamp": 1629556020393,
     "user": {
      "displayName": "Sagi Shaier",
      "photoUrl": "https://lh3.googleusercontent.com/a-/AOh14GiXQKL7UiRoL28-GMShElFe0PuFh4NWnMP9hbDD=s64",
      "userId": "12455150063240177220"
     },
     "user_tz": 360
    },
    "id": "pFhy95XbZqOS",
    "outputId": "3c30c4a3-913b-4841-9dd8-110b5528e558",
    "papermill": {
     "duration": 1.154962,
     "end_time": "2022-04-26T12:43:16.631935",
     "exception": false,
     "start_time": "2022-04-26T12:43:15.476973",
     "status": "completed"
    },
    "tags": []
   },
   "outputs": [
    {
     "data": {
      "text/plain": [
       "<torch._C.Generator at 0x7fa760c79910>"
      ]
     },
     "execution_count": 1,
     "metadata": {},
     "output_type": "execute_result"
    }
   ],
   "source": [
    "import torch\n",
    "from torch.autograd import grad\n",
    "import torch.nn as nn\n",
    "from numpy import genfromtxt\n",
    "import torch.optim as optim\n",
    "import matplotlib.pyplot as plt\n",
    "import torch.nn.functional as F\n",
    "import pandas as pd \n",
    "import os\n",
    "import re\n",
    "import numpy as np\n",
    "\n",
    "torch.manual_seed(1234)"
   ]
  },
  {
   "cell_type": "code",
   "execution_count": 2,
   "id": "993b895e",
   "metadata": {
    "execution": {
     "iopub.execute_input": "2022-04-26T12:43:16.652458Z",
     "iopub.status.busy": "2022-04-26T12:43:16.651738Z",
     "iopub.status.idle": "2022-04-26T12:43:22.426572Z",
     "shell.execute_reply": "2022-04-26T12:43:22.425872Z"
    },
    "id": "TQeJH1kt6xPr",
    "papermill": {
     "duration": 5.787635,
     "end_time": "2022-04-26T12:43:22.429106",
     "exception": false,
     "start_time": "2022-04-26T12:43:16.641471",
     "status": "completed"
    },
    "tags": []
   },
   "outputs": [],
   "source": [
    "cumulative_infected_list = []\n",
    "cumulative_dead_list = []\n",
    "cumulative_recovered_list = []\n",
    "\n",
    "daily_infected_list = []\n",
    "daily_dead_list = []\n",
    "daily_recovered_list = []\n",
    "\n",
    "fnames = os.listdir('../input/cssegisanddatacovid19/csse_covid_19_data/csse_covid_19_daily_reports_us')\n",
    "fnames.remove('README.md')\n",
    "#order file names\n",
    "def sortkey(x):\n",
    "    parts = re.split('-', x.replace(\".csv\", \"\"))\n",
    "    #print(parts)\n",
    "    return [int(parts[2]), int(parts[0]), int(parts[1])]\n",
    "\n",
    "sorted_fnames = sorted(fnames, key=sortkey)\n",
    "\n",
    "for file_name in sorted_fnames:\n",
    "    df = pd.read_csv(f'../input/cssegisanddatacovid19/csse_covid_19_data/csse_covid_19_daily_reports_us/{file_name}' )\n",
    "    df.replace(np.nan, 0)\n",
    "\n",
    "    deaths = df['Deaths'].sum()\n",
    "    confirmed = df['Confirmed'].sum()\n",
    "    recovered = df['Recovered'].sum()\n",
    "\n",
    "    cumulative_infected_list.append(confirmed)\n",
    "    cumulative_dead_list.append(deaths)\n",
    "    cumulative_recovered_list.append(recovered)\n",
    "    \n",
    "for day in range(1,len(cumulative_infected_list)):\n",
    "    daily_infected_list.append(cumulative_infected_list[day]- cumulative_infected_list[day-1])\n",
    "    daily_dead_list.append(cumulative_dead_list[day]- cumulative_dead_list[day-1])\n",
    "    daily_recovered_list.append(cumulative_recovered_list[day]- cumulative_recovered_list[day-1])      "
   ]
  },
  {
   "cell_type": "code",
   "execution_count": 3,
   "id": "ceb12105",
   "metadata": {
    "execution": {
     "iopub.execute_input": "2022-04-26T12:43:22.448942Z",
     "iopub.status.busy": "2022-04-26T12:43:22.448668Z",
     "iopub.status.idle": "2022-04-26T12:43:22.453605Z",
     "shell.execute_reply": "2022-04-26T12:43:22.452784Z"
    },
    "id": "-smnINJMMgxC",
    "papermill": {
     "duration": 0.017069,
     "end_time": "2022-04-26T12:43:22.455370",
     "exception": false,
     "start_time": "2022-04-26T12:43:22.438301",
     "status": "completed"
    },
    "tags": []
   },
   "outputs": [],
   "source": [
    "#remove negative outliers\n",
    "new_daily_recovered_list = daily_recovered_list.copy() \n",
    "\n",
    "for n, i in enumerate(new_daily_recovered_list):\n",
    "  if i < 0:\n",
    "    new_daily_recovered_list[n] = new_daily_recovered_list[n-1]"
   ]
  },
  {
   "cell_type": "code",
   "execution_count": 4,
   "id": "da7de966",
   "metadata": {
    "execution": {
     "iopub.execute_input": "2022-04-26T12:43:22.474896Z",
     "iopub.status.busy": "2022-04-26T12:43:22.474646Z",
     "iopub.status.idle": "2022-04-26T12:43:22.479026Z",
     "shell.execute_reply": "2022-04-26T12:43:22.478226Z"
    },
    "id": "NkDSjtVLRpsj",
    "papermill": {
     "duration": 0.016563,
     "end_time": "2022-04-26T12:43:22.481071",
     "exception": false,
     "start_time": "2022-04-26T12:43:22.464508",
     "status": "completed"
    },
    "tags": []
   },
   "outputs": [],
   "source": [
    "# remove very high outliers --> run twice -- seems like an outlier (indices 263, 264)\n",
    "# max_value_idx = new_daily_recovered_list.index(max(new_daily_recovered_list))\n",
    "# new_daily_recovered_list[max_value_idx] = new_daily_recovered_list[max_value_idx - 1]"
   ]
  },
  {
   "cell_type": "code",
   "execution_count": 5,
   "id": "ac8e3930",
   "metadata": {
    "execution": {
     "iopub.execute_input": "2022-04-26T12:43:22.500844Z",
     "iopub.status.busy": "2022-04-26T12:43:22.500249Z",
     "iopub.status.idle": "2022-04-26T12:43:22.715339Z",
     "shell.execute_reply": "2022-04-26T12:43:22.714240Z"
    },
    "executionInfo": {
     "elapsed": 295,
     "status": "ok",
     "timestamp": 1629560479383,
     "user": {
      "displayName": "Sagi Shaier",
      "photoUrl": "https://lh3.googleusercontent.com/a-/AOh14GiXQKL7UiRoL28-GMShElFe0PuFh4NWnMP9hbDD=s64",
      "userId": "12455150063240177220"
     },
     "user_tz": 360
    },
    "id": "eXiytIPe6x2z",
    "outputId": "edec1dc2-4c2c-425b-ea5b-192767d59aba",
    "papermill": {
     "duration": 0.227292,
     "end_time": "2022-04-26T12:43:22.717347",
     "exception": false,
     "start_time": "2022-04-26T12:43:22.490055",
     "status": "completed"
    },
    "tags": []
   },
   "outputs": [
    {
     "name": "stderr",
     "output_type": "stream",
     "text": [
      "/opt/conda/lib/python3.7/site-packages/ipykernel_launcher.py:10: MatplotlibDeprecationWarning: The 'b' parameter of grid() has been renamed 'visible' since Matplotlib 3.5; support for the old name will be dropped two minor releases later.\n",
      "  # Remove the CWD from sys.path while we load stuff.\n"
     ]
    },
    {
     "data": {
      "image/png": "[encoded data removed]",
      "text/plain": [
       "<Figure size 432x432 with 1 Axes>"
      ]
     },
     "metadata": {
      "needs_background": "light"
     },
     "output_type": "display_data"
    }
   ],
   "source": [
    "fig = plt.figure(figsize=(6,6))\n",
    "\n",
    "ax = fig.add_subplot(111, facecolor='#dddddd', axisbelow=True)\n",
    "ax.set_facecolor('xkcd:white')\n",
    "\n",
    "plt.plot(daily_infected_list, label = 'daily_infected_list')\n",
    "plt.plot(daily_dead_list, label = 'daily_dead_list')\n",
    "plt.plot(new_daily_recovered_list, label = 'new_daily_recovered_list')\n",
    "\n",
    "ax.grid(b=True, which='major', c='black', lw=0.2, ls='-')\n",
    "legend = ax.legend()\n",
    "legend.get_frame().set_alpha(0.5)\n",
    "for spine in ('top', 'right', 'bottom', 'left'):\n",
    "    ax.spines[spine].set_visible(False)\n",
    "plt.show();"
   ]
  },
  {
   "cell_type": "code",
   "execution_count": 6,
   "id": "95741c6d",
   "metadata": {
    "execution": {
     "iopub.execute_input": "2022-04-26T12:43:22.740973Z",
     "iopub.status.busy": "2022-04-26T12:43:22.740689Z",
     "iopub.status.idle": "2022-04-26T12:43:22.924631Z",
     "shell.execute_reply": "2022-04-26T12:43:22.923547Z"
    },
    "executionInfo": {
     "elapsed": 447,
     "status": "ok",
     "timestamp": 1629560485084,
     "user": {
      "displayName": "Sagi Shaier",
      "photoUrl": "https://lh3.googleusercontent.com/a-/AOh14GiXQKL7UiRoL28-GMShElFe0PuFh4NWnMP9hbDD=s64",
      "userId": "12455150063240177220"
     },
     "user_tz": 360
    },
    "id": "ZNL1MYgaS-0w",
    "outputId": "401e1095-ee77-4761-aa66-7ea1d3425a2a",
    "papermill": {
     "duration": 0.198472,
     "end_time": "2022-04-26T12:43:22.926749",
     "exception": false,
     "start_time": "2022-04-26T12:43:22.728277",
     "status": "completed"
    },
    "tags": []
   },
   "outputs": [
    {
     "name": "stderr",
     "output_type": "stream",
     "text": [
      "/opt/conda/lib/python3.7/site-packages/ipykernel_launcher.py:17: MatplotlibDeprecationWarning: The 'b' parameter of grid() has been renamed 'visible' since Matplotlib 3.5; support for the old name will be dropped two minor releases later.\n"
     ]
    },
    {
     "data": {
      "image/png": "[encoded data removed]",
      "text/plain": [
       "<Figure size 432x432 with 1 Axes>"
      ]
     },
     "metadata": {
      "needs_background": "light"
     },
     "output_type": "display_data"
    }
   ],
   "source": [
    "N = 328e6\n",
    "\n",
    "cumulative_susceptible_list = []\n",
    "for i in range(len(cumulative_recovered_list)):\n",
    "    cumulative_susceptible_list.append(N - cumulative_recovered_list[i] - cumulative_infected_list[i] - cumulative_dead_list[i])\n",
    "\n",
    "fig = plt.figure(figsize=(6,6))\n",
    "\n",
    "ax = fig.add_subplot(111, facecolor='#dddddd', axisbelow=True)\n",
    "ax.set_facecolor('xkcd:white')\n",
    "\n",
    "# plt.plot(cumulative_susceptible_list[:310], label = 'cumulative_susceptible_list')\n",
    "plt.plot(cumulative_infected_list, label = 'cumulative_infected_list')\n",
    "plt.plot(cumulative_dead_list, label = 'cumulative_dead_list')\n",
    "plt.plot(cumulative_recovered_list, label = 'cumulative_recovered_list')\n",
    "\n",
    "ax.grid(b=True, which='major', c='black', lw=0.2, ls='-')\n",
    "legend = ax.legend()\n",
    "legend.get_frame().set_alpha(0.5)\n",
    "for spine in ('top', 'right', 'bottom', 'left'):\n",
    "    ax.spines[spine].set_visible(False)\n",
    "plt.show();"
   ]
  },
  {
   "cell_type": "code",
   "execution_count": 7,
   "id": "76b1e917",
   "metadata": {
    "execution": {
     "iopub.execute_input": "2022-04-26T12:43:22.952783Z",
     "iopub.status.busy": "2022-04-26T12:43:22.952517Z",
     "iopub.status.idle": "2022-04-26T12:43:22.972186Z",
     "shell.execute_reply": "2022-04-26T12:43:22.971338Z"
    },
    "id": "-Jl53ifkZZNz",
    "papermill": {
     "duration": 0.03546,
     "end_time": "2022-04-26T12:43:22.974534",
     "exception": false,
     "start_time": "2022-04-26T12:43:22.939074",
     "status": "completed"
    },
    "tags": []
   },
   "outputs": [],
   "source": [
    "#save as csv files\n",
    "\n",
    "#cumulative cases [S,I,D,R]\n",
    "df = pd.DataFrame(list(zip(cumulative_susceptible_list, cumulative_infected_list, cumulative_dead_list, cumulative_recovered_list)),\n",
    "               columns =['cumulative_susceptible', 'cumulative_infected', 'cumulative_dead', 'cumulative_recovered'])\n",
    "df.to_csv('covid_real_data_cumulative_cases.csv')\n",
    "\n",
    "#daily cases [I,D,R]\n",
    "df = pd.DataFrame(list(zip(daily_infected_list, daily_dead_list, new_daily_recovered_list)),\n",
    "               columns =['daily_infected', 'daily_dead', 'daily_recovered'])\n",
    "df.to_csv('covid_real_data_daily_cases.csv')"
   ]
  }
 ],
 "metadata": {
  "kernelspec": {
   "display_name": "Python 3",
   "language": "python",
   "name": "python3"
  },
  "language_info": {
   "codemirror_mode": {
    "name": "ipython",
    "version": 3
   },
   "file_extension": ".py",
   "mimetype": "text/x-python",
   "name": "python",
   "nbconvert_exporter": "python",
   "pygments_lexer": "ipython3",
   "version": "3.7.12"
  },
  "papermill": {
   "default_parameters": {},
   "duration": 16.989325,
   "end_time": "2022-04-26T12:43:23.706893",
   "environment_variables": {},
   "exception": null,
   "input_path": "__notebook__.ipynb",
   "output_path": "__notebook__.ipynb",
   "parameters": {},
   "start_time": "2022-04-26T12:43:06.717568",
   "version": "2.3.4"
  }
 },
 "nbformat": 4,
 "nbformat_minor": 5
}
