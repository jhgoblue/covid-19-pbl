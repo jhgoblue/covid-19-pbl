{
 "cells": [
  {
   "cell_type": "code",
   "execution_count": 1,
   "id": "6a20ab0c",
   "metadata": {
    "execution": {
     "iopub.execute_input": "2022-04-26T13:32:51.023911Z",
     "iopub.status.busy": "2022-04-26T13:32:51.023089Z",
     "iopub.status.idle": "2022-04-26T13:32:52.415498Z",
     "shell.execute_reply": "2022-04-26T13:32:52.414750Z"
    },
    "executionInfo": {
     "elapsed": 4229,
     "status": "ok",
     "timestamp": 1629556020393,
     "user": {
      "displayName": "Sagi Shaier",
      "photoUrl": "https://lh3.googleusercontent.com/a-/AOh14GiXQKL7UiRoL28-GMShElFe0PuFh4NWnMP9hbDD=s64",
      "userId": "12455150063240177220"
     },
     "user_tz": 360
    },
    "id": "pFhy95XbZqOS",
    "outputId": "3c30c4a3-913b-4841-9dd8-110b5528e558",
    "papermill": {
     "duration": 1.406281,
     "end_time": "2022-04-26T13:32:52.417988",
     "exception": false,
     "start_time": "2022-04-26T13:32:51.011707",
     "status": "completed"
    },
    "tags": []
   },
   "outputs": [
    {
     "data": {
      "text/plain": [
       "<torch._C.Generator at 0x7fb7f4f50970>"
      ]
     },
     "execution_count": 1,
     "metadata": {},
     "output_type": "execute_result"
    }
   ],
   "source": [
    "import torch\n",
    "from torch.autograd import grad\n",
    "import torch.nn as nn\n",
    "from numpy import genfromtxt\n",
    "import torch.optim as optim\n",
    "import matplotlib.pyplot as plt\n",
    "import torch.nn.functional as F\n",
    "import pandas as pd \n",
    "import os\n",
    "import re\n",
    "import numpy as np\n",
    "\n",
    "torch.manual_seed(1234)"
   ]
  },
  {
   "cell_type": "code",
   "execution_count": 2,
   "id": "51e236e7",
   "metadata": {
    "execution": {
     "iopub.execute_input": "2022-04-26T13:32:52.438033Z",
     "iopub.status.busy": "2022-04-26T13:32:52.437506Z",
     "iopub.status.idle": "2022-04-26T13:32:58.928876Z",
     "shell.execute_reply": "2022-04-26T13:32:58.927859Z"
    },
    "id": "TQeJH1kt6xPr",
    "papermill": {
     "duration": 6.504322,
     "end_time": "2022-04-26T13:32:58.931647",
     "exception": false,
     "start_time": "2022-04-26T13:32:52.427325",
     "status": "completed"
    },
    "tags": []
   },
   "outputs": [],
   "source": [
    "cumulative_infected_list = []\n",
    "cumulative_dead_list = []\n",
    "cumulative_recovered_list = []\n",
    "cumulative_Active_list = []\n",
    "\n",
    "daily_infected_list = []\n",
    "daily_dead_list = []\n",
    "daily_recovered_list = []\n",
    "daily_Active_list = []\n",
    "\n",
    "fnames = os.listdir('../input/cssegisanddatacovid19/csse_covid_19_data/csse_covid_19_daily_reports_us')\n",
    "try:\n",
    "    fnames.remove('README.md')\n",
    "    fnames.remove('.gitignore')\n",
    "except:\n",
    "    pass\n",
    "#order file names\n",
    "def sortkey(x):\n",
    "    parts = re.split('-', x.replace(\".csv\", \"\"))\n",
    "    #print(parts)\n",
    "    return [int(parts[2]), int(parts[0]), int(parts[1])]\n",
    "\n",
    "sorted_fnames = sorted(fnames, key=sortkey)\n",
    "\n",
    "for file_name in sorted_fnames:\n",
    "    df = pd.read_csv(f'../input/cssegisanddatacovid19/csse_covid_19_data/csse_covid_19_daily_reports_us/{file_name}' )\n",
    "    df.replace(np.nan, 0)\n",
    "\n",
    "    deaths = df['Deaths'].sum()\n",
    "    confirmed = df['Confirmed'].sum()\n",
    "    recovered = df['Recovered'].sum()\n",
    "    Active = df['Active'].sum()\n",
    "\n",
    "    cumulative_infected_list.append(confirmed)\n",
    "    cumulative_dead_list.append(deaths)\n",
    "    cumulative_recovered_list.append(recovered)\n",
    "    cumulative_Active_list.append(Active)\n",
    "    \n",
    "for day in range(1,len(cumulative_infected_list)):\n",
    "    daily_infected_list.append(cumulative_infected_list[day]- cumulative_infected_list[day-1])\n",
    "    daily_dead_list.append(cumulative_dead_list[day]- cumulative_dead_list[day-1])\n",
    "    daily_recovered_list.append(cumulative_recovered_list[day]- cumulative_recovered_list[day-1])\n",
    "    daily_Active_list.append(cumulative_Active_list[day]- cumulative_Active_list[day-1])"
   ]
  },
  {
   "cell_type": "code",
   "execution_count": 3,
   "id": "0ec19426",
   "metadata": {
    "execution": {
     "iopub.execute_input": "2022-04-26T13:32:58.951647Z",
     "iopub.status.busy": "2022-04-26T13:32:58.951358Z",
     "iopub.status.idle": "2022-04-26T13:32:58.957262Z",
     "shell.execute_reply": "2022-04-26T13:32:58.956188Z"
    },
    "id": "-smnINJMMgxC",
    "papermill": {
     "duration": 0.018906,
     "end_time": "2022-04-26T13:32:58.959284",
     "exception": false,
     "start_time": "2022-04-26T13:32:58.940378",
     "status": "completed"
    },
    "tags": []
   },
   "outputs": [],
   "source": [
    "#remove negative outliers\n",
    "new_daily_recovered_list = daily_recovered_list.copy() \n",
    "\n",
    "for n, i in enumerate(new_daily_recovered_list):\n",
    "  if i < 0:\n",
    "    new_daily_recovered_list[n] = new_daily_recovered_list[n-1]"
   ]
  },
  {
   "cell_type": "code",
   "execution_count": 4,
   "id": "97291433",
   "metadata": {
    "execution": {
     "iopub.execute_input": "2022-04-26T13:32:58.978872Z",
     "iopub.status.busy": "2022-04-26T13:32:58.978570Z",
     "iopub.status.idle": "2022-04-26T13:32:58.982690Z",
     "shell.execute_reply": "2022-04-26T13:32:58.981611Z"
    },
    "id": "NkDSjtVLRpsj",
    "papermill": {
     "duration": 0.016415,
     "end_time": "2022-04-26T13:32:58.984738",
     "exception": false,
     "start_time": "2022-04-26T13:32:58.968323",
     "status": "completed"
    },
    "tags": []
   },
   "outputs": [],
   "source": [
    "# remove very high outliers --> run twice -- seems like an outlier (indices 263, 264)\n",
    "# max_value_idx = new_daily_recovered_list.index(max(new_daily_recovered_list))\n",
    "# new_daily_recovered_list[max_value_idx] = new_daily_recovered_list[max_value_idx - 1]"
   ]
  },
  {
   "cell_type": "code",
   "execution_count": 5,
   "id": "cc0b87f2",
   "metadata": {
    "execution": {
     "iopub.execute_input": "2022-04-26T13:32:59.004396Z",
     "iopub.status.busy": "2022-04-26T13:32:59.004117Z",
     "iopub.status.idle": "2022-04-26T13:32:59.296806Z",
     "shell.execute_reply": "2022-04-26T13:32:59.295556Z"
    },
    "executionInfo": {
     "elapsed": 295,
     "status": "ok",
     "timestamp": 1629560479383,
     "user": {
      "displayName": "Sagi Shaier",
      "photoUrl": "https://lh3.googleusercontent.com/a-/AOh14GiXQKL7UiRoL28-GMShElFe0PuFh4NWnMP9hbDD=s64",
      "userId": "12455150063240177220"
     },
     "user_tz": 360
    },
    "id": "eXiytIPe6x2z",
    "outputId": "edec1dc2-4c2c-425b-ea5b-192767d59aba",
    "papermill": {
     "duration": 0.305472,
     "end_time": "2022-04-26T13:32:59.299238",
     "exception": false,
     "start_time": "2022-04-26T13:32:58.993766",
     "status": "completed"
    },
    "tags": []
   },
   "outputs": [
    {
     "name": "stderr",
     "output_type": "stream",
     "text": [
      "/opt/conda/lib/python3.7/site-packages/ipykernel_launcher.py:11: MatplotlibDeprecationWarning: The 'b' parameter of grid() has been renamed 'visible' since Matplotlib 3.5; support for the old name will be dropped two minor releases later.\n",
      "  # This is added back by InteractiveShellApp.init_path()\n"
     ]
    },
    {
     "data": {
      "image/png": "[encoded data removed]",
      "text/plain": [
       "<Figure size 432x432 with 1 Axes>"
      ]
     },
     "metadata": {
      "needs_background": "light"
     },
     "output_type": "display_data"
    }
   ],
   "source": [
    "fig = plt.figure(figsize=(6,6))\n",
    "\n",
    "ax = fig.add_subplot(111, facecolor='#dddddd', axisbelow=True)\n",
    "ax.set_facecolor('xkcd:white')\n",
    "\n",
    "plt.plot(daily_infected_list, label = 'daily_infected_list')\n",
    "plt.plot(daily_dead_list, label = 'daily_dead_list')\n",
    "plt.plot(new_daily_recovered_list, label = 'new_daily_recovered_list')\n",
    "plt.plot(daily_Active_list, label = 'daily_Active_list')\n",
    "\n",
    "ax.grid(b=True, which='major', c='black', lw=0.2, ls='-')\n",
    "legend = ax.legend()\n",
    "legend.get_frame().set_alpha(0.5)\n",
    "for spine in ('top', 'right', 'bottom', 'left'):\n",
    "    ax.spines[spine].set_visible(False)\n",
    "plt.show();"
   ]
  },
  {
   "cell_type": "code",
   "execution_count": 6,
   "id": "d7656367",
   "metadata": {
    "execution": {
     "iopub.execute_input": "2022-04-26T13:32:59.323954Z",
     "iopub.status.busy": "2022-04-26T13:32:59.322958Z",
     "iopub.status.idle": "2022-04-26T13:32:59.576021Z",
     "shell.execute_reply": "2022-04-26T13:32:59.574885Z"
    },
    "executionInfo": {
     "elapsed": 447,
     "status": "ok",
     "timestamp": 1629560485084,
     "user": {
      "displayName": "Sagi Shaier",
      "photoUrl": "https://lh3.googleusercontent.com/a-/AOh14GiXQKL7UiRoL28-GMShElFe0PuFh4NWnMP9hbDD=s64",
      "userId": "12455150063240177220"
     },
     "user_tz": 360
    },
    "id": "ZNL1MYgaS-0w",
    "outputId": "401e1095-ee77-4761-aa66-7ea1d3425a2a",
    "papermill": {
     "duration": 0.268025,
     "end_time": "2022-04-26T13:32:59.578207",
     "exception": false,
     "start_time": "2022-04-26T13:32:59.310182",
     "status": "completed"
    },
    "tags": []
   },
   "outputs": [
    {
     "name": "stderr",
     "output_type": "stream",
     "text": [
      "/opt/conda/lib/python3.7/site-packages/ipykernel_launcher.py:21: MatplotlibDeprecationWarning: The 'b' parameter of grid() has been renamed 'visible' since Matplotlib 3.5; support for the old name will be dropped two minor releases later.\n"
     ]
    },
    {
     "data": {
      "image/png": "[encoded data removed]",
      "text/plain": [
       "<Figure size 432x432 with 1 Axes>"
      ]
     },
     "metadata": {
      "needs_background": "light"
     },
     "output_type": "display_data"
    }
   ],
   "source": [
    "N = 328e6\n",
    "\n",
    "cumulative_susceptible_list = []\n",
    "for i in range(len(cumulative_recovered_list)):\n",
    "    cumulative_dead_list[i] = cumulative_dead_list[i]\n",
    "    cumulative_recovered_list[i] = cumulative_recovered_list[i]\n",
    "    cumulative_infected_list[i] = cumulative_infected_list[i] - cumulative_recovered_list[i] - cumulative_dead_list[i]\n",
    "    cumulative_susceptible_list.append(N - cumulative_recovered_list[i] - cumulative_infected_list[i] - cumulative_dead_list[i] - cumulative_Active_list[i])\n",
    "    \n",
    "fig = plt.figure(figsize=(6,6))\n",
    "\n",
    "ax = fig.add_subplot(111, facecolor='#dddddd', axisbelow=True)\n",
    "ax.set_facecolor('xkcd:white')\n",
    "\n",
    "# plt.plot(cumulative_susceptible_list[:310], label = 'cumulative_susceptible_list')\n",
    "plt.plot(cumulative_infected_list, label = 'cumulative_infected_list')\n",
    "plt.plot(cumulative_dead_list, label = 'cumulative_dead_list')\n",
    "plt.plot(cumulative_recovered_list, label = 'cumulative_recovered_list')\n",
    "plt.plot(cumulative_Active_list, label = 'cumulative_Active_list')\n",
    "\n",
    "ax.grid(b=True, which='major', c='black', lw=0.2, ls='-')\n",
    "legend = ax.legend()\n",
    "legend.get_frame().set_alpha(0.5)\n",
    "for spine in ('top', 'right', 'bottom', 'left'):\n",
    "    ax.spines[spine].set_visible(False)\n",
    "plt.show();"
   ]
  },
  {
   "cell_type": "code",
   "execution_count": 7,
   "id": "a3b39c21",
   "metadata": {
    "execution": {
     "iopub.execute_input": "2022-04-26T13:32:59.607234Z",
     "iopub.status.busy": "2022-04-26T13:32:59.606879Z",
     "iopub.status.idle": "2022-04-26T13:32:59.634043Z",
     "shell.execute_reply": "2022-04-26T13:32:59.632801Z"
    },
    "id": "-Jl53ifkZZNz",
    "papermill": {
     "duration": 0.044853,
     "end_time": "2022-04-26T13:32:59.636842",
     "exception": false,
     "start_time": "2022-04-26T13:32:59.591989",
     "status": "completed"
    },
    "tags": []
   },
   "outputs": [],
   "source": [
    "#save as csv files\n",
    "\n",
    "#cumulative cases [S,I,D,R]\n",
    "df = pd.DataFrame(list(zip(cumulative_susceptible_list, cumulative_infected_list, cumulative_dead_list, cumulative_recovered_list,cumulative_Active_list)),\n",
    "               columns =['cumulative_susceptible', 'cumulative_infected', 'cumulative_dead', 'cumulative_recovered', 'cumulative_Active_list'])\n",
    "df.to_csv('covid_real_data_cumulative_cases.csv')\n",
    "\n",
    "#daily cases [I,D,R]\n",
    "df = pd.DataFrame(list(zip(daily_infected_list, daily_dead_list, new_daily_recovered_list,daily_Active_list)),\n",
    "               columns =['daily_infected', 'daily_dead', 'daily_recovered', 'daily_Active_list'])\n",
    "df.to_csv('covid_real_data_daily_cases.csv')"
   ]
  }
 ],
 "metadata": {
  "kernelspec": {
   "display_name": "Python 3",
   "language": "python",
   "name": "python3"
  },
  "language_info": {
   "codemirror_mode": {
    "name": "ipython",
    "version": 3
   },
   "file_extension": ".py",
   "mimetype": "text/x-python",
   "name": "python",
   "nbconvert_exporter": "python",
   "pygments_lexer": "ipython3",
   "version": "3.7.12"
  },
  "papermill": {
   "default_parameters": {},
   "duration": 20.426916,
   "end_time": "2022-04-26T13:33:00.773856",
   "environment_variables": {},
   "exception": null,
   "input_path": "__notebook__.ipynb",
   "output_path": "__notebook__.ipynb",
   "parameters": {},
   "start_time": "2022-04-26T13:32:40.346940",
   "version": "2.3.4"
  }
 },
 "nbformat": 4,
 "nbformat_minor": 5
}
