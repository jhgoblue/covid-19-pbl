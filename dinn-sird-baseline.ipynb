{
 "cells": [
  {
   "cell_type": "code",
   "execution_count": 1,
   "id": "ec2e907a",
   "metadata": {
    "execution": {
     "iopub.execute_input": "2022-05-09T09:38:55.156847Z",
     "iopub.status.busy": "2022-05-09T09:38:55.156130Z",
     "iopub.status.idle": "2022-05-09T09:38:56.255258Z",
     "shell.execute_reply": "2022-05-09T09:38:56.254598Z"
    },
    "id": "pFhy95XbZqOS",
    "outputId": "15f8f3ad-9634-4cce-8309-4665b077fb7f",
    "papermill": {
     "duration": 1.115471,
     "end_time": "2022-05-09T09:38:56.257438",
     "exception": false,
     "start_time": "2022-05-09T09:38:55.141967",
     "status": "completed"
    },
    "tags": []
   },
   "outputs": [
    {
     "data": {
      "text/plain": [
       "<torch._C.Generator at 0x7fd235929950>"
      ]
     },
     "execution_count": 1,
     "metadata": {},
     "output_type": "execute_result"
    }
   ],
   "source": [
    "import torch\n",
    "from torch.autograd import grad\n",
    "import torch.nn as nn\n",
    "from numpy import genfromtxt\n",
    "import torch.optim as optim\n",
    "import matplotlib.pyplot as plt\n",
    "import torch.nn.functional as F\n",
    "import pandas as pd \n",
    "import os\n",
    "import re\n",
    "import numpy as np\n",
    "\n",
    "torch.manual_seed(1234)"
   ]
  },
  {
   "cell_type": "code",
   "execution_count": 2,
   "id": "d0b6cdd3",
   "metadata": {
    "execution": {
     "iopub.execute_input": "2022-05-09T09:38:56.282406Z",
     "iopub.status.busy": "2022-05-09T09:38:56.282168Z",
     "iopub.status.idle": "2022-05-09T09:38:56.323642Z",
     "shell.execute_reply": "2022-05-09T09:38:56.322858Z"
    },
    "id": "NJ-EItw9leO0",
    "outputId": "cd0e4812-098a-4659-dc08-e48e687a98fd",
    "papermill": {
     "duration": 0.055919,
     "end_time": "2022-05-09T09:38:56.325461",
     "exception": false,
     "start_time": "2022-05-09T09:38:56.269542",
     "status": "completed"
    },
    "tags": []
   },
   "outputs": [
    {
     "data": {
      "text/html": [
       "<div>\n",
       "<style scoped>\n",
       "    .dataframe tbody tr th:only-of-type {\n",
       "        vertical-align: middle;\n",
       "    }\n",
       "\n",
       "    .dataframe tbody tr th {\n",
       "        vertical-align: top;\n",
       "    }\n",
       "\n",
       "    .dataframe thead th {\n",
       "        text-align: right;\n",
       "    }\n",
       "</style>\n",
       "<table border=\"1\" class=\"dataframe\">\n",
       "  <thead>\n",
       "    <tr style=\"text-align: right;\">\n",
       "      <th></th>\n",
       "      <th>t</th>\n",
       "      <th>cumulative_susceptible</th>\n",
       "      <th>cumulative_infected</th>\n",
       "      <th>cumulative_dead</th>\n",
       "      <th>cumulative_recovered</th>\n",
       "    </tr>\n",
       "  </thead>\n",
       "  <tbody>\n",
       "    <tr>\n",
       "      <th>0</th>\n",
       "      <td>0.0</td>\n",
       "      <td>327354822.0</td>\n",
       "      <td>555658</td>\n",
       "      <td>22381</td>\n",
       "      <td>67139.0</td>\n",
       "    </tr>\n",
       "    <tr>\n",
       "      <th>1</th>\n",
       "      <td>1.0</td>\n",
       "      <td>327316219.0</td>\n",
       "      <td>580930</td>\n",
       "      <td>23927</td>\n",
       "      <td>78924.0</td>\n",
       "    </tr>\n",
       "    <tr>\n",
       "      <th>2</th>\n",
       "      <td>2.0</td>\n",
       "      <td>327280343.0</td>\n",
       "      <td>608017</td>\n",
       "      <td>26232</td>\n",
       "      <td>85408.0</td>\n",
       "    </tr>\n",
       "    <tr>\n",
       "      <th>3</th>\n",
       "      <td>3.0</td>\n",
       "      <td>327242913.0</td>\n",
       "      <td>636876</td>\n",
       "      <td>28710</td>\n",
       "      <td>91501.0</td>\n",
       "    </tr>\n",
       "    <tr>\n",
       "      <th>4</th>\n",
       "      <td>4.0</td>\n",
       "      <td>327201782.0</td>\n",
       "      <td>668157</td>\n",
       "      <td>33326</td>\n",
       "      <td>96735.0</td>\n",
       "    </tr>\n",
       "    <tr>\n",
       "      <th>...</th>\n",
       "      <td>...</td>\n",
       "      <td>...</td>\n",
       "      <td>...</td>\n",
       "      <td>...</td>\n",
       "      <td>...</td>\n",
       "    </tr>\n",
       "    <tr>\n",
       "      <th>490</th>\n",
       "      <td>490.0</td>\n",
       "      <td>290699822.0</td>\n",
       "      <td>36678753</td>\n",
       "      <td>621425</td>\n",
       "      <td>0.0</td>\n",
       "    </tr>\n",
       "    <tr>\n",
       "      <th>491</th>\n",
       "      <td>491.0</td>\n",
       "      <td>290488968.0</td>\n",
       "      <td>36888921</td>\n",
       "      <td>622111</td>\n",
       "      <td>0.0</td>\n",
       "    </tr>\n",
       "    <tr>\n",
       "      <th>492</th>\n",
       "      <td>492.0</td>\n",
       "      <td>290359034.0</td>\n",
       "      <td>37017854</td>\n",
       "      <td>623112</td>\n",
       "      <td>0.0</td>\n",
       "    </tr>\n",
       "    <tr>\n",
       "      <th>493</th>\n",
       "      <td>493.0</td>\n",
       "      <td>290220073.0</td>\n",
       "      <td>37155669</td>\n",
       "      <td>624258</td>\n",
       "      <td>0.0</td>\n",
       "    </tr>\n",
       "    <tr>\n",
       "      <th>494</th>\n",
       "      <td>494.0</td>\n",
       "      <td>290080693.0</td>\n",
       "      <td>37294141</td>\n",
       "      <td>625166</td>\n",
       "      <td>0.0</td>\n",
       "    </tr>\n",
       "  </tbody>\n",
       "</table>\n",
       "<p>495 rows × 5 columns</p>\n",
       "</div>"
      ],
      "text/plain": [
       "         t  cumulative_susceptible  cumulative_infected  cumulative_dead  \\\n",
       "0      0.0             327354822.0               555658            22381   \n",
       "1      1.0             327316219.0               580930            23927   \n",
       "2      2.0             327280343.0               608017            26232   \n",
       "3      3.0             327242913.0               636876            28710   \n",
       "4      4.0             327201782.0               668157            33326   \n",
       "..     ...                     ...                  ...              ...   \n",
       "490  490.0             290699822.0             36678753           621425   \n",
       "491  491.0             290488968.0             36888921           622111   \n",
       "492  492.0             290359034.0             37017854           623112   \n",
       "493  493.0             290220073.0             37155669           624258   \n",
       "494  494.0             290080693.0             37294141           625166   \n",
       "\n",
       "     cumulative_recovered  \n",
       "0                 67139.0  \n",
       "1                 78924.0  \n",
       "2                 85408.0  \n",
       "3                 91501.0  \n",
       "4                 96735.0  \n",
       "..                    ...  \n",
       "490                   0.0  \n",
       "491                   0.0  \n",
       "492                   0.0  \n",
       "493                   0.0  \n",
       "494                   0.0  \n",
       "\n",
       "[495 rows x 5 columns]"
      ]
     },
     "execution_count": 2,
     "metadata": {},
     "output_type": "execute_result"
    }
   ],
   "source": [
    "#read data\n",
    "\n",
    "covid_cumulative_cases = pd.read_csv('../input/dinncovid/Experiments/real_data/covid_real_data_cumulative_cases.csv', delimiter=',') #in the form of [t,S,I,D,R]\n",
    "covid_cumulative_cases.columns = ['t', 'cumulative_susceptible','cumulative_infected', 'cumulative_dead', 'cumulative_recovered'] #rename columns\n",
    "covid_cumulative_cases['t'] = covid_cumulative_cases['t'].astype(float)\n",
    "covid_cumulative_cases"
   ]
  },
  {
   "cell_type": "code",
   "execution_count": 3,
   "id": "7740f6c4",
   "metadata": {
    "execution": {
     "iopub.execute_input": "2022-05-09T09:38:56.351041Z",
     "iopub.status.busy": "2022-05-09T09:38:56.350617Z",
     "iopub.status.idle": "2022-05-09T09:38:56.360650Z",
     "shell.execute_reply": "2022-05-09T09:38:56.359645Z"
    },
    "id": "r3EOsgFmaMfd",
    "outputId": "a32506fe-8fd1-44e4-ca94-e3debf9ac330",
    "papermill": {
     "duration": 0.025442,
     "end_time": "2022-05-09T09:38:56.363032",
     "exception": false,
     "start_time": "2022-05-09T09:38:56.337590",
     "status": "completed"
    },
    "tags": []
   },
   "outputs": [
    {
     "name": "stdout",
     "output_type": "stream",
     "text": [
      "31\n"
     ]
    }
   ],
   "source": [
    "#take only a sample of 31\n",
    "cumulative_susceptible = []\n",
    "cumulative_infected = [] \n",
    "cumulative_dead = []\n",
    "cumulative_recovered = []\n",
    "timesteps = []\n",
    "\n",
    "d1 = covid_cumulative_cases['cumulative_susceptible'][:310]\n",
    "d2 = covid_cumulative_cases['cumulative_infected'][:310]\n",
    "d3 = covid_cumulative_cases['cumulative_dead'][:310]\n",
    "d4 = covid_cumulative_cases['cumulative_recovered'][:310]\n",
    "d5 = covid_cumulative_cases['t'][:310]\n",
    "\n",
    "for item in range(len(d5)):\n",
    "    if item%10 == 0:\n",
    "        cumulative_susceptible.append(d1[item])\n",
    "        cumulative_infected.append(d2[item]) \n",
    "        cumulative_dead.append(d3[item])\n",
    "        cumulative_recovered.append(d4[item])\n",
    "        timesteps.append(d5[item])\n",
    "\n",
    "print(len(timesteps))        "
   ]
  },
  {
   "cell_type": "code",
   "execution_count": 4,
   "id": "17f2bf9b",
   "metadata": {
    "execution": {
     "iopub.execute_input": "2022-05-09T09:38:56.390302Z",
     "iopub.status.busy": "2022-05-09T09:38:56.390119Z",
     "iopub.status.idle": "2022-05-09T09:38:56.670469Z",
     "shell.execute_reply": "2022-05-09T09:38:56.669711Z"
    },
    "id": "eXiytIPe6x2z",
    "outputId": "491e9008-3c19-476b-80a5-80642ab7bbcf",
    "papermill": {
     "duration": 0.295265,
     "end_time": "2022-05-09T09:38:56.672383",
     "exception": false,
     "start_time": "2022-05-09T09:38:56.377118",
     "status": "completed"
    },
    "tags": []
   },
   "outputs": [
    {
     "name": "stderr",
     "output_type": "stream",
     "text": [
      "/opt/conda/lib/python3.7/site-packages/ipykernel_launcher.py:16: MatplotlibDeprecationWarning: The 'b' parameter of grid() has been renamed 'visible' since Matplotlib 3.5; support for the old name will be dropped two minor releases later.\n",
      "  app.launch_new_instance()\n"
     ]
    },
    {
     "data": {
      "image/png": "[encoded data removed]",
      "text/plain": [
       "<Figure size 432x432 with 1 Axes>"
      ]
     },
     "metadata": {
      "needs_background": "light"
     },
     "output_type": "display_data"
    }
   ],
   "source": [
    "fig = plt.figure(figsize=(6,6))\n",
    "\n",
    "ax = fig.add_subplot(111, facecolor='#dddddd', axisbelow=True)\n",
    "ax.set_facecolor('xkcd:white')\n",
    "\n",
    "plt.plot(covid_cumulative_cases['cumulative_susceptible'][:310], label = 'cumulative Susceptible')\n",
    "plt.plot(covid_cumulative_cases['cumulative_infected'][:310], label = 'cumulative Infected')\n",
    "plt.plot(covid_cumulative_cases['cumulative_dead'][:310], label = 'cumulative Dead')\n",
    "plt.plot(covid_cumulative_cases['cumulative_recovered'][:310], label = 'cumulative Recovered')\n",
    "\n",
    "plt.plot(cumulative_susceptible, label = 'cumulative Susceptible')\n",
    "plt.plot(cumulative_infected, label = 'cumulative Infected')\n",
    "plt.plot(cumulative_dead, label = 'cumulative Dead')\n",
    "plt.plot(cumulative_recovered, label = 'cumulative Recovered')\n",
    "\n",
    "ax.grid(b=True, which='major', c='black', lw=0.2, ls='-')\n",
    "legend = ax.legend()\n",
    "legend.get_frame().set_alpha(0.5)\n",
    "for spine in ('top', 'right', 'bottom', 'left'):\n",
    "    ax.spines[spine].set_visible(False)\n",
    "plt.show();"
   ]
  },
  {
   "cell_type": "code",
   "execution_count": 5,
   "id": "3493614b",
   "metadata": {
    "execution": {
     "iopub.execute_input": "2022-05-09T09:38:56.703666Z",
     "iopub.status.busy": "2022-05-09T09:38:56.703399Z",
     "iopub.status.idle": "2022-05-09T09:38:56.707967Z",
     "shell.execute_reply": "2022-05-09T09:38:56.707217Z"
    },
    "id": "WFPz8KJlJYuL",
    "outputId": "7fcad9e7-b71b-49c1-ef3a-2acfe0eba59d",
    "papermill": {
     "duration": 0.022624,
     "end_time": "2022-05-09T09:38:56.710017",
     "exception": false,
     "start_time": "2022-05-09T09:38:56.687393",
     "status": "completed"
    },
    "tags": []
   },
   "outputs": [
    {
     "name": "stdout",
     "output_type": "stream",
     "text": [
      "270.0\n",
      "300.0\n"
     ]
    }
   ],
   "source": [
    "print(timesteps[:28][-1])\n",
    "print(timesteps[-1])"
   ]
  },
  {
   "cell_type": "code",
   "execution_count": 6,
   "id": "1649deb0",
   "metadata": {
    "execution": {
     "iopub.execute_input": "2022-05-09T09:38:56.743150Z",
     "iopub.status.busy": "2022-05-09T09:38:56.742624Z",
     "iopub.status.idle": "2022-05-09T09:38:56.777338Z",
     "shell.execute_reply": "2022-05-09T09:38:56.776536Z"
    },
    "id": "AD6iFgYfZqOa",
    "outputId": "dbab277a-a162-4122-cf43-6650728d3d5d",
    "papermill": {
     "duration": 0.0539,
     "end_time": "2022-05-09T09:38:56.779425",
     "exception": false,
     "start_time": "2022-05-09T09:38:56.725525",
     "status": "completed"
    },
    "tags": []
   },
   "outputs": [
    {
     "name": "stdout",
     "output_type": "stream",
     "text": [
      "CPU times: user 46 µs, sys: 7 µs, total: 53 µs\n",
      "Wall time: 57.9 µs\n"
     ]
    }
   ],
   "source": [
    "%%time\n",
    "\n",
    "PATH = 'covid_real_data_cumulative_cases' \n",
    "\n",
    "class DINN(nn.Module):\n",
    "    def __init__(self, t, S_data, I_data, D_data, R_data): #[t,S,I,D,R]\n",
    "        super(DINN, self).__init__()\n",
    "        self.N = 340e6 #population size\n",
    "        self.t = torch.tensor(t, requires_grad=True)\n",
    "        self.t_float = self.t.float()\n",
    "        self.t_batch = torch.reshape(self.t_float, (len(self.t),1)) #reshape for batch \n",
    "        self.S = torch.tensor(S_data)\n",
    "        self.I = torch.tensor(I_data)\n",
    "        self.D = torch.tensor(D_data)\n",
    "        self.R = torch.tensor(R_data)\n",
    "        self.Train_Test = 28\n",
    "\n",
    "        self.losses = []\n",
    "        self.acces = []\n",
    "        self.save = 3 #which file to save to\n",
    "\n",
    "        self.alpha_tilda = torch.nn.Parameter(torch.rand(1, requires_grad=True)) #0.191\n",
    "        self.beta_tilda = torch.nn.Parameter(torch.rand(1, requires_grad=True)) #0.05\n",
    "        self.gamma_tilda = torch.nn.Parameter(torch.rand(1, requires_grad=True)) #0.0294\n",
    "        \n",
    "        #find values for normalization\n",
    "        self.S_max = max(self.S)\n",
    "        self.I_max = max(self.I)\n",
    "        self.D_max = max(self.D)\n",
    "        self.R_max = max(self.R)\n",
    "        self.S_min = min(self.S)\n",
    "        self.I_min = min(self.I)\n",
    "        self.D_min = min(self.D)\n",
    "        self.R_min = min(self.R)\n",
    "\n",
    "        #unnormalize\n",
    "        self.S_hat = (self.S - self.S_min) / (self.S_max - self.S_min)\n",
    "        self.I_hat = (self.I - self.I_min) / (self.I_max - self.I_min)\n",
    "        self.D_hat = (self.D - self.D_min) / (self.D_max - self.D_min)\n",
    "        self.R_hat = (self.R - self.R_min) / (self.R_max - self.R_min)\n",
    "\n",
    "        #matrices (x4 for S,I,D,R) for the gradients\n",
    "        self.m1 = torch.zeros((len(self.t), 4)); self.m1[:, 0] = 1\n",
    "        self.m2 = torch.zeros((len(self.t), 4)); self.m2[:, 1] = 1\n",
    "        self.m3 = torch.zeros((len(self.t), 4)); self.m3[:, 2] = 1\n",
    "        self.m4 = torch.zeros((len(self.t), 4)); self.m4[:, 3] = 1\n",
    "\n",
    "        #NN\n",
    "        self.net_sidr = self.Net_sidr()\n",
    "        self.params = list(self.net_sidr.parameters())\n",
    "        self.params.extend(list([self.alpha_tilda, self.beta_tilda, self.gamma_tilda]))\n",
    "\n",
    "    #force parameters to be in a range\n",
    "    @property\n",
    "    def alpha(self):\n",
    "        return torch.tanh(self.alpha_tilda)*0.191*200\n",
    "\n",
    "    @property\n",
    "    def beta(self):\n",
    "        return torch.tanh(self.beta_tilda)*0.05*200\n",
    "    \n",
    "    @property\n",
    "    def gamma(self):\n",
    "        return torch.tanh(self.gamma_tilda)*0.0294*200\n",
    "\n",
    "\n",
    "    #nets\n",
    "    class Net_sidr(nn.Module): # input = [t]\n",
    "        def __init__(self):\n",
    "            super(DINN.Net_sidr, self).__init__()\n",
    "            self.fc1=nn.Linear(1, 20) \n",
    "            self.fc2=nn.Linear(20, 20)\n",
    "            self.fc3=nn.Linear(20, 20)\n",
    "            self.fc4=nn.Linear(20, 20)\n",
    "            self.fc5=nn.Linear(20, 20)\n",
    "            self.fc6=nn.Linear(20, 20)\n",
    "            self.fc7=nn.Linear(20, 20)\n",
    "            self.fc8=nn.Linear(20, 20)\n",
    "            self.out=nn.Linear(20, 4) #outputs S, I, D, R\n",
    "\n",
    "        def forward(self, t_batch):\n",
    "            sidr=F.relu(self.fc1(t_batch))\n",
    "            sidr=F.relu(self.fc2(sidr))\n",
    "            sidr=F.relu(self.fc3(sidr))\n",
    "            sidr=F.relu(self.fc4(sidr))\n",
    "            sidr=F.relu(self.fc5(sidr))\n",
    "            sidr=F.relu(self.fc6(sidr))\n",
    "            sidr=F.relu(self.fc7(sidr))\n",
    "            sidr=F.relu(self.fc8(sidr))\n",
    "            sidr=self.out(sidr)\n",
    "            return sidr\n",
    "            \n",
    "    def net_f(self, t_batch):\n",
    "        sidr_hat = self.net_sidr(t_batch)\n",
    "\n",
    "        S_hat, I_hat, D_hat, R_hat = sidr_hat[:,0], sidr_hat[:,1], sidr_hat[:,2], sidr_hat[:,3]\n",
    "\n",
    "        #S_t\n",
    "        sidr_hat.backward(self.m1, retain_graph=True)\n",
    "        \n",
    "        S_hat_t = self.t.grad.clone()\n",
    "        self.t.grad.zero_()\n",
    "\n",
    "        #I_t\n",
    "        sidr_hat.backward(self.m2, retain_graph=True)\n",
    "        \n",
    "        I_hat_t = self.t.grad.clone()\n",
    "        self.t.grad.zero_()\n",
    "\n",
    "        #D_t\n",
    "        sidr_hat.backward(self.m3, retain_graph=True)\n",
    "        \n",
    "        D_hat_t = self.t.grad.clone()\n",
    "        self.t.grad.zero_()\n",
    "\n",
    "        #R_t\n",
    "        sidr_hat.backward(self.m4, retain_graph=True)\n",
    "        \n",
    "        R_hat_t = self.t.grad.clone()\n",
    "        self.t.grad.zero_()\n",
    "\n",
    "        #unnormalize\n",
    "        S = self.S_min + (self.S_max - self.S_min) * S_hat\n",
    "        I = self.I_min + (self.I_max - self.I_min) * I_hat\n",
    "        D = self.D_min + (self.D_max - self.D_min) * D_hat      \n",
    "        R = self.R_min + (self.R_max - self.R_min) * R_hat\n",
    "\n",
    "        f1_hat = S_hat_t - (-(self.alpha / self.N) * S * I)  / (self.S_max - self.S_min)\n",
    "        f2_hat = I_hat_t - ((self.alpha / self.N) * S * I - self.beta * I - self.gamma * I ) / (self.I_max - self.I_min)\n",
    "        f3_hat = D_hat_t - (self.gamma * I) / (self.D_max - self.D_min)\n",
    "        f4_hat = R_hat_t - (self.beta * I ) / (self.R_max - self.R_min)\n",
    "\n",
    "\n",
    "        return f1_hat, f2_hat, f3_hat, f4_hat, S_hat, I_hat, D_hat, R_hat\n",
    "    \n",
    "    def load(self):\n",
    "      # Load checkpoint\n",
    "      try:\n",
    "        checkpoint = torch.load(PATH + str(self.save)+'.pt') \n",
    "        print('\\nloading pre-trained model...')\n",
    "        self.load_state_dict(checkpoint['model'])\n",
    "        self.optimizer.load_state_dict(checkpoint['optimizer_state_dict'])\n",
    "        self.scheduler.load_state_dict(checkpoint['scheduler'])\n",
    "        epoch = checkpoint['epoch']\n",
    "         \n",
    "        self.losses = checkpoint['losses']\n",
    "         \n",
    "\n",
    "      except RuntimeError :\n",
    "          print('changed the architecture, ignore')\n",
    "          pass\n",
    "      except FileNotFoundError:\n",
    "          pass\n",
    "\n",
    "    def train(self, n_epochs):\n",
    "      #try loading\n",
    "      self.load()\n",
    "\n",
    "      #train\n",
    "      print('\\nstarting training...\\n')\n",
    "      \n",
    "      for epoch in range(n_epochs):\n",
    "        #lists to hold the output (maintain only the final epoch)\n",
    "        S_pred_list = []\n",
    "        I_pred_list = []\n",
    "        D_pred_list = []\n",
    "        R_pred_list = []\n",
    "\n",
    "         \n",
    "        f1, f2, f3, f4, S_pred, I_pred, D_pred, R_pred = self.net_f(self.t_batch)\n",
    "        self.optimizer.zero_grad()\n",
    "\n",
    "        S_pred_list.append(self.S_min + (self.S_max - self.S_min) * S_pred) \n",
    "        I_pred_list.append(self.I_min + (self.I_max - self.I_min) * I_pred)\n",
    "        D_pred_list.append(self.D_min + (self.D_max - self.D_min) * D_pred)\n",
    "        R_pred_list.append(self.R_min + (self.R_max - self.R_min) * R_pred)\n",
    "\n",
    "        loss = (torch.mean(torch.square(self.S_hat[:28] - S_pred[:28]))+ \n",
    "                torch.mean(torch.square(self.I_hat[:28] - I_pred[:28]))+\n",
    "                torch.mean(torch.square(self.D_hat[:28] - D_pred[:28]))+\n",
    "                torch.mean(torch.square(self.R_hat[:28] - R_pred[:28]))+\n",
    "                torch.mean(torch.square(f1[:28]))+\n",
    "                torch.mean(torch.square(f2[:28]))+\n",
    "                torch.mean(torch.square(f3[:28]))+\n",
    "                torch.mean(torch.square(f4[:28]))\n",
    "                ) \n",
    "        acc = (torch.mean(torch.square(self.S_hat[28:] - S_pred[28:]))+ \n",
    "                torch.mean(torch.square(self.I_hat[28:] - I_pred[28:]))+\n",
    "                torch.mean(torch.square(self.D_hat[28:] - D_pred[28:]))+\n",
    "                torch.mean(torch.square(self.R_hat[28:] - R_pred[28:]))+\n",
    "                torch.mean(torch.square(f1[28:]))+\n",
    "                torch.mean(torch.square(f2[28:]))+\n",
    "                torch.mean(torch.square(f3[28:]))+\n",
    "                torch.mean(torch.square(f4[28:]))\n",
    "                ) \n",
    "\n",
    "        acc.backward(retain_graph=True)\n",
    "        loss.backward()\n",
    "        self.optimizer.step()\n",
    "        self.scheduler.step() \n",
    "         \n",
    "         \n",
    "\n",
    "        self.losses.append(loss.item())\n",
    "        self.acces.append(acc.item())\n",
    "\n",
    "        #if epoch % 1000 == 0:          \n",
    "          #print('\\nEpoch ', epoch)\n",
    "\n",
    "        #loss + model parameters update\n",
    "        if epoch % 5000 == 0:\n",
    "          #checkpoint save every 100 epochs if the loss is lower\n",
    "          print('\\nSaving model... Loss is: ', loss,'acc is ',acc)\n",
    "          torch.save({\n",
    "              'epoch': epoch,\n",
    "              'model': self.state_dict(),\n",
    "              'optimizer_state_dict': self.optimizer.state_dict(),\n",
    "              'scheduler': self.scheduler.state_dict(),\n",
    "              #'loss': loss,\n",
    "              'losses': self.losses,\n",
    "              'acc':self.acces\n",
    "              }, PATH + str(self.save)+'.pt')\n",
    "          if self.save % 2 > 0: #its on 3\n",
    "            self.save = 2 #change to 2\n",
    "          else: #its on 2\n",
    "            self.save = 3 #change to 3\n",
    "\n",
    "          print('epoch: ', epoch)\n",
    "        \n",
    "\n",
    "      return S_pred_list, I_pred_list, D_pred_list, R_pred_list"
   ]
  },
  {
   "cell_type": "code",
   "execution_count": 7,
   "id": "e2cdf316",
   "metadata": {
    "execution": {
     "iopub.execute_input": "2022-05-09T09:38:56.812656Z",
     "iopub.status.busy": "2022-05-09T09:38:56.811918Z",
     "iopub.status.idle": "2022-05-09T09:48:06.911814Z",
     "shell.execute_reply": "2022-05-09T09:48:06.911073Z"
    },
    "id": "_P1obOwWZqOc",
    "outputId": "0dfe5a6b-905b-4db8-fdfd-130d51d1852a",
    "papermill": {
     "duration": 550.140873,
     "end_time": "2022-05-09T09:48:06.936296",
     "exception": false,
     "start_time": "2022-05-09T09:38:56.795423",
     "status": "completed"
    },
    "tags": []
   },
   "outputs": [
    {
     "name": "stdout",
     "output_type": "stream",
     "text": [
      "\n",
      "starting training...\n",
      "\n",
      "\n",
      "Saving model... Loss is:  tensor(17.5413, dtype=torch.float64, grad_fn=<AddBackward0>) acc is  tensor(5.0934, dtype=torch.float64, grad_fn=<AddBackward0>)\n",
      "epoch:  0\n",
      "\n",
      "Saving model... Loss is:  tensor(0.4229, dtype=torch.float64, grad_fn=<AddBackward0>) acc is  tensor(0.9989, dtype=torch.float64, grad_fn=<AddBackward0>)\n",
      "epoch:  5000\n",
      "\n",
      "Saving model... Loss is:  tensor(0.3651, dtype=torch.float64, grad_fn=<AddBackward0>) acc is  tensor(0.9743, dtype=torch.float64, grad_fn=<AddBackward0>)\n",
      "epoch:  10000\n",
      "\n",
      "Saving model... Loss is:  tensor(0.2666, dtype=torch.float64, grad_fn=<AddBackward0>) acc is  tensor(0.9625, dtype=torch.float64, grad_fn=<AddBackward0>)\n",
      "epoch:  15000\n",
      "\n",
      "Saving model... Loss is:  tensor(0.1675, dtype=torch.float64, grad_fn=<AddBackward0>) acc is  tensor(0.9487, dtype=torch.float64, grad_fn=<AddBackward0>)\n",
      "epoch:  20000\n",
      "\n",
      "Saving model... Loss is:  tensor(0.1423, dtype=torch.float64, grad_fn=<AddBackward0>) acc is  tensor(0.9412, dtype=torch.float64, grad_fn=<AddBackward0>)\n",
      "epoch:  25000\n",
      "\n",
      "Saving model... Loss is:  tensor(0.1285, dtype=torch.float64, grad_fn=<AddBackward0>) acc is  tensor(0.9376, dtype=torch.float64, grad_fn=<AddBackward0>)\n",
      "epoch:  30000\n",
      "\n",
      "Saving model... Loss is:  tensor(0.1191, dtype=torch.float64, grad_fn=<AddBackward0>) acc is  tensor(0.9349, dtype=torch.float64, grad_fn=<AddBackward0>)\n",
      "epoch:  35000\n",
      "\n",
      "Saving model... Loss is:  tensor(0.1164, dtype=torch.float64, grad_fn=<AddBackward0>) acc is  tensor(0.9179, dtype=torch.float64, grad_fn=<AddBackward0>)\n",
      "epoch:  40000\n",
      "\n",
      "Saving model... Loss is:  tensor(0.1153, dtype=torch.float64, grad_fn=<AddBackward0>) acc is  tensor(0.9098, dtype=torch.float64, grad_fn=<AddBackward0>)\n",
      "epoch:  45000\n",
      "\n",
      "Saving model... Loss is:  tensor(0.1133, dtype=torch.float64, grad_fn=<AddBackward0>) acc is  tensor(0.8943, dtype=torch.float64, grad_fn=<AddBackward0>)\n",
      "epoch:  50000\n",
      "\n",
      "Saving model... Loss is:  tensor(0.1085, dtype=torch.float64, grad_fn=<AddBackward0>) acc is  tensor(0.8571, dtype=torch.float64, grad_fn=<AddBackward0>)\n",
      "epoch:  55000\n",
      "\n",
      "Saving model... Loss is:  tensor(0.0914, dtype=torch.float64, grad_fn=<AddBackward0>) acc is  tensor(0.7228, dtype=torch.float64, grad_fn=<AddBackward0>)\n",
      "epoch:  60000\n",
      "\n",
      "Saving model... Loss is:  tensor(0.0122, dtype=torch.float64, grad_fn=<AddBackward0>) acc is  tensor(0.0976, dtype=torch.float64, grad_fn=<AddBackward0>)\n",
      "epoch:  65000\n",
      "\n",
      "Saving model... Loss is:  tensor(6.4808e-05, dtype=torch.float64, grad_fn=<AddBackward0>) acc is  tensor(1.0403e-05, dtype=torch.float64, grad_fn=<AddBackward0>)\n",
      "epoch:  70000\n",
      "\n",
      "Saving model... Loss is:  tensor(6.4664e-05, dtype=torch.float64, grad_fn=<AddBackward0>) acc is  tensor(1.6906e-05, dtype=torch.float64, grad_fn=<AddBackward0>)\n",
      "epoch:  75000\n",
      "\n",
      "Saving model... Loss is:  tensor(5.9026e-05, dtype=torch.float64, grad_fn=<AddBackward0>) acc is  tensor(1.0507e-05, dtype=torch.float64, grad_fn=<AddBackward0>)\n",
      "epoch:  80000\n",
      "\n",
      "Saving model... Loss is:  tensor(5.8940e-05, dtype=torch.float64, grad_fn=<AddBackward0>) acc is  tensor(1.3442e-05, dtype=torch.float64, grad_fn=<AddBackward0>)\n",
      "epoch:  85000\n",
      "\n",
      "Saving model... Loss is:  tensor(5.7358e-05, dtype=torch.float64, grad_fn=<AddBackward0>) acc is  tensor(1.0496e-05, dtype=torch.float64, grad_fn=<AddBackward0>)\n",
      "epoch:  90000\n",
      "\n",
      "Saving model... Loss is:  tensor(5.7710e-05, dtype=torch.float64, grad_fn=<AddBackward0>) acc is  tensor(1.1044e-05, dtype=torch.float64, grad_fn=<AddBackward0>)\n",
      "epoch:  95000\n",
      "CPU times: user 9min 9s, sys: 169 ms, total: 9min 9s\n",
      "Wall time: 9min 10s\n"
     ]
    }
   ],
   "source": [
    "%%time\n",
    "\n",
    "dinn = DINN(timesteps, cumulative_susceptible, cumulative_infected, cumulative_dead, cumulative_recovered) #in the form of [t,S,I,D,R]\n",
    "\n",
    "learning_rate = 1e-5\n",
    "optimizer = optim.Adam(dinn.params, lr = learning_rate)\n",
    "dinn.optimizer = optimizer\n",
    "\n",
    " \n",
    "scheduler = torch.optim.lr_scheduler.CyclicLR(dinn.optimizer, base_lr=1e-5, max_lr=1e-3, step_size_up=1000, mode=\"exp_range\", gamma=0.85, cycle_momentum=False)\n",
    "\n",
    "dinn.scheduler = scheduler\n",
    "\n",
    "try: \n",
    "  S_pred_list, I_pred_list, D_pred_list, R_pred_list = dinn.train(100000) #train\n",
    "except EOFError:\n",
    "  if dinn.save == 2:\n",
    "    dinn.save = 3\n",
    "    S_pred_list, I_pred_list, D_pred_list, R_pred_list = dinn.train(100000) #train\n",
    "  elif dinn.save == 3:\n",
    "    dinn.save = 2\n",
    "    S_pred_list, I_pred_list, D_pred_list, R_pred_list = dinn.train(100000) #train"
   ]
  },
  {
   "cell_type": "code",
   "execution_count": 8,
   "id": "314d121f",
   "metadata": {
    "execution": {
     "iopub.execute_input": "2022-05-09T09:48:06.985922Z",
     "iopub.status.busy": "2022-05-09T09:48:06.985656Z",
     "iopub.status.idle": "2022-05-09T09:48:07.215487Z",
     "shell.execute_reply": "2022-05-09T09:48:07.214861Z"
    },
    "id": "WwqBVtEM9FYG",
    "outputId": "77a7b291-710d-4a67-abd4-589798fefbed",
    "papermill": {
     "duration": 0.257422,
     "end_time": "2022-05-09T09:48:07.217280",
     "exception": false,
     "start_time": "2022-05-09T09:48:06.959858",
     "status": "completed"
    },
    "tags": []
   },
   "outputs": [
    {
     "data": {
      "text/plain": [
       "Text(0, 0.5, 'acc')"
      ]
     },
     "execution_count": 8,
     "metadata": {},
     "output_type": "execute_result"
    },
    {
     "data": {
      "image/png": "[encoded data removed]",
      "text/plain": [
       "<Figure size 432x288 with 1 Axes>"
      ]
     },
     "metadata": {
      "needs_background": "light"
     },
     "output_type": "display_data"
    }
   ],
   "source": [
    "plt.plot(dinn.losses[0:], color = 'teal')\n",
    "plt.xlabel('Epochs')\n",
    "plt.ylabel('Loss')\n",
    "plt.ylabel('acc')"
   ]
  },
  {
   "cell_type": "code",
   "execution_count": 9,
   "id": "32a22375",
   "metadata": {
    "execution": {
     "iopub.execute_input": "2022-05-09T09:48:07.269001Z",
     "iopub.status.busy": "2022-05-09T09:48:07.268478Z",
     "iopub.status.idle": "2022-05-09T09:48:08.111944Z",
     "shell.execute_reply": "2022-05-09T09:48:08.111334Z"
    },
    "id": "cnq4p1_7cEJy",
    "outputId": "f6c88a95-ec15-46f2-8f8e-08d4d01152b6",
    "papermill": {
     "duration": 0.873344,
     "end_time": "2022-05-09T09:48:08.114962",
     "exception": false,
     "start_time": "2022-05-09T09:48:07.241618",
     "status": "completed"
    },
    "tags": []
   },
   "outputs": [
    {
     "data": {
      "image/png": "[encoded data removed]",
      "text/plain": [
       "<Figure size 864x864 with 4 Axes>"
      ]
     },
     "metadata": {
      "needs_background": "light"
     },
     "output_type": "display_data"
    }
   ],
   "source": [
    "plt.rc('xtick', labelsize=20) \n",
    "plt.rc('ytick', labelsize=20) \n",
    "\n",
    "fig, ax = plt.subplots(2, 2, figsize = (12,12))\n",
    "\n",
    "\n",
    "ax[0, 0].set_facecolor('xkcd:white')\n",
    "ax[1, 0].set_facecolor('xkcd:white')\n",
    "ax[0, 1].set_facecolor('xkcd:white')\n",
    "ax[1, 1].set_facecolor('xkcd:white')\n",
    "\n",
    "\n",
    "ax[0, 0].scatter(timesteps[:28], cumulative_susceptible[:28], c = 'black', alpha=0.5, lw=2, label='Susceptible Data')\n",
    "ax[0, 0].scatter(timesteps[28:], cumulative_susceptible[28:], c = 'gold', alpha=0.5, lw=5, label='Future Data')\n",
    "ax[0, 0].plot(timesteps, S_pred_list[0].detach().numpy(), 'red', alpha=0.9, lw=2, label='Susceptible Prediction', linestyle='dashed')\n",
    "\n",
    "ax[1, 0].scatter(timesteps[:28], cumulative_infected[:28], c = 'violet', alpha=0.5, lw=2, label='Infected Data')\n",
    "ax[1, 0].scatter(timesteps[28:], cumulative_infected[28:], c = 'gold', alpha=0.5, lw=5, label='Future Data')\n",
    "ax[1, 0].plot(timesteps, I_pred_list[0].detach().numpy(), 'black', alpha=0.9, lw=2, label='Infected Prediction', linestyle='dashed')\n",
    "\n",
    "ax[0, 1].scatter(timesteps[:28], cumulative_dead[:28], c = 'black', alpha=0.5, lw=2, label='Dead Data')\n",
    "ax[0, 1].scatter(timesteps[28:], cumulative_dead[28:], c = 'gold', alpha=0.5, lw=5, label='Future Data')\n",
    "ax[0, 1].plot(timesteps, D_pred_list[0].detach().numpy(), 'green', alpha=0.9, lw=2, label='Dead Prediction', linestyle='dashed')\n",
    "\n",
    "ax[1, 1].scatter(timesteps[:28], cumulative_recovered[:28], c = 'blue', alpha=0.5, lw=2, label='Recovered Data')\n",
    "ax[1, 1].scatter(timesteps[28:], cumulative_recovered[28:], c = 'gold', alpha=0.5, lw=5, label='Future Data')\n",
    "ax[1, 1].plot(timesteps, R_pred_list[0].detach().numpy(), 'teal', alpha=0.9, lw=2, label='Recovered Prediction', linestyle='dashed')\n",
    "\n",
    "ax[0, 0].set_xlabel('Time /days',size = 20)\n",
    "ax[0, 0].set_ylabel('Number',size = 20)\n",
    "ax[0, 0].yaxis.set_tick_params(length=0)\n",
    "ax[0, 0].xaxis.set_tick_params(length=0)\n",
    "# ax[0, 0].grid(b=True, which='major', c='black', lw=0.2, ls='-')\n",
    "legend = ax[0, 0].legend(prop={'size':18})\n",
    "legend.get_frame().set_alpha(0.5)\n",
    "for spine in ('top', 'right', 'bottom', 'left'):\n",
    "    ax[0, 0].spines[spine].set_visible(False)\n",
    "############################################################\n",
    "ax[1, 0].set_xlabel('Time /days',size = 20)\n",
    "ax[1, 0].set_ylabel('Number',size = 20)\n",
    "ax[1, 0].yaxis.set_tick_params(length=0)\n",
    "ax[1, 0].xaxis.set_tick_params(length=0)\n",
    "# ax[1, 0].grid(b=True, which='major', c='black', lw=0.2, ls='-')\n",
    "legend = ax[1, 0].legend(prop={'size':18})\n",
    "legend.get_frame().set_alpha(0.5)\n",
    "for spine in ('top', 'right', 'bottom', 'left'):\n",
    "    ax[1, 0].spines[spine].set_visible(False)\n",
    "############################################################\n",
    "ax[0, 1].set_xlabel('Time /days',size = 20)\n",
    "ax[0, 1].set_ylabel('Number',size = 20)\n",
    "ax[0, 1].yaxis.set_tick_params(length=0)\n",
    "ax[0, 1].xaxis.set_tick_params(length=0)\n",
    "# ax[0, 1].grid(b=True, which='major', c='black', lw=0.2, ls='-')\n",
    "legend = ax[0, 1].legend(prop={'size':18})\n",
    "legend.get_frame().set_alpha(0.5)\n",
    "for spine in ('top', 'right', 'bottom', 'left'):\n",
    "    ax[0, 1].spines[spine].set_visible(False)\n",
    "############################################################\n",
    "ax[1, 1].set_xlabel('Time /days',size = 20)\n",
    "ax[1, 1].set_ylabel('Number',size = 20)\n",
    "ax[1, 1].yaxis.set_tick_params(length=0)\n",
    "ax[1, 1].xaxis.set_tick_params(length=0)\n",
    "# ax[1, 1].grid(b=True, which='major', c='black', lw=0.2, ls='-')\n",
    "legend = ax[1,1].legend(prop={'size':18})\n",
    "legend.get_frame().set_alpha(0.5)\n",
    "for spine in ('top', 'right', 'bottom', 'left'):\n",
    "    ax[1,1].spines[spine].set_visible(False)\n",
    "############################################################\n",
    "# plt.savefig('covid_real_data_cumulative_cases.pdf')\n",
    "plt.show()"
   ]
  },
  {
   "cell_type": "code",
   "execution_count": 10,
   "id": "2187172d",
   "metadata": {
    "execution": {
     "iopub.execute_input": "2022-05-09T09:48:08.170996Z",
     "iopub.status.busy": "2022-05-09T09:48:08.170775Z",
     "iopub.status.idle": "2022-05-09T09:48:08.177071Z",
     "shell.execute_reply": "2022-05-09T09:48:08.176124Z"
    },
    "id": "UEu_4lJML-BE",
    "outputId": "548e9c6e-eca2-4860-e1a7-787734fbed93",
    "papermill": {
     "duration": 0.036403,
     "end_time": "2022-05-09T09:48:08.179358",
     "exception": false,
     "start_time": "2022-05-09T09:48:08.142955",
     "status": "completed"
    },
    "tags": []
   },
   "outputs": [
    {
     "name": "stdout",
     "output_type": "stream",
     "text": [
      "dinn.alpha tensor([0.0120], grad_fn=<MulBackward0>)\n",
      "dinn.beta tensor([0.0034], grad_fn=<MulBackward0>)\n",
      "dinn.gamma tensor([0.0001], grad_fn=<MulBackward0>)\n"
     ]
    }
   ],
   "source": [
    "print('dinn.alpha', dinn.alpha)\n",
    "print('dinn.beta', dinn.beta)\n",
    "print('dinn.gamma', dinn.gamma)"
   ]
  },
  {
   "cell_type": "code",
   "execution_count": null,
   "id": "0851aee1",
   "metadata": {
    "id": "Wwm2AYHTL8qS",
    "papermill": {
     "duration": 0.027039,
     "end_time": "2022-05-09T09:48:08.234226",
     "exception": false,
     "start_time": "2022-05-09T09:48:08.207187",
     "status": "completed"
    },
    "tags": []
   },
   "outputs": [],
   "source": []
  }
 ],
 "metadata": {
  "kernelspec": {
   "display_name": "Python 3",
   "language": "python",
   "name": "python3"
  },
  "language_info": {
   "codemirror_mode": {
    "name": "ipython",
    "version": 3
   },
   "file_extension": ".py",
   "mimetype": "text/x-python",
   "name": "python",
   "nbconvert_exporter": "python",
   "pygments_lexer": "ipython3",
   "version": "3.7.12"
  },
  "papermill": {
   "default_parameters": {},
   "duration": 562.39958,
   "end_time": "2022-05-09T09:48:08.982241",
   "environment_variables": {},
   "exception": null,
   "input_path": "__notebook__.ipynb",
   "output_path": "__notebook__.ipynb",
   "parameters": {},
   "start_time": "2022-05-09T09:38:46.582661",
   "version": "2.3.4"
  }
 },
 "nbformat": 4,
 "nbformat_minor": 5
}
