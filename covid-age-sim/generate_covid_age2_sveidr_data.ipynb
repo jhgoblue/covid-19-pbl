{
 "cells": [
  {
   "cell_type": "markdown",
   "metadata": {},
   "source": [
    "# Paper: Data-based analysis, modelling and forecasting of the COVID-19 outbreak"
   ]
  },
  {
   "cell_type": "code",
   "execution_count": 3,
   "metadata": {},
   "outputs": [],
   "source": [
    "import numpy as np\n",
    "from scipy.integrate import odeint\n",
    "import matplotlib.pyplot as plt"
   ]
  },
  {
   "cell_type": "markdown",
   "metadata": {},
   "source": [
    "2 age groups\n",
    "SVEIDR"
   ]
  },
  {
   "cell_type": "code",
   "execution_count": 4,
   "metadata": {},
   "outputs": [
    {
     "name": "stderr",
     "output_type": "stream",
     "text": [
      "C:\\Users\\kuotuantuan\\AppData\\Local\\Temp\\ipykernel_12108\\2828423219.py:60: MatplotlibDeprecationWarning: The 'b' parameter of grid() has been renamed 'visible' since Matplotlib 3.5; support for the old name will be dropped two minor releases later.\n",
      "  ax.grid(b=True, which='major', c='w', lw=2, ls='-')\n"
     ]
    },
    {
     "data": {
      "image/png": "[encoded data removed]",
      "text/plain": [
       "<Figure size 432x288 with 1 Axes>"
      ]
     },
     "metadata": {},
     "output_type": "display_data"
    }
   ],
   "source": [
    "# The SVIDR model differential equations.\n",
    "def deriv(y, t, age_num,  alpha, beta, gamma, sigma, lbda, rho, M):\n",
    "    S, V, E, I, D, R = y[0:2], y[2:4], y[4:6], y[6:8], y[8:10], y[10:12]\n",
    "    dSdt, dVdt, dEdt, dIdt, dDdt, dRdt = [], [], [], [], [], []\n",
    "\n",
    "    for i in range(age_num):\n",
    "        dSdt.append( - beta/N * S[i] * M[i, :].dot(I) - alpha * S[i] )\n",
    "        dVdt.append( alpha * S[i] - sigma * beta/N * V[i] * M[i, :].dot(I) )\n",
    "        dEdt.append( beta/N * S[i] * M[i, :].dot(I) + sigma * beta/N * V[i] * M[i, :].dot(I) - gamma * E[i] )\n",
    "        dIdt.append( gamma * E[i] - lbda * I[i] - rho * I[i] )\n",
    "        dDdt.append( lbda * I[i] )\n",
    "        dRdt.append( rho * I[i] )\n",
    "\n",
    "    return dSdt + dVdt + dEdt + dIdt + dDdt + dRdt\n",
    "\n",
    "age_num = 2\n",
    "\n",
    "# Initial conditions\n",
    "N = 3.5e7\n",
    "\n",
    "init0 = np.array([[N*0.4, N*0.6],\n",
    "          [0, 0],\n",
    "          [0, 0],\n",
    "          [1, 1],\n",
    "          [0, 0],\n",
    "          [0, 0]])\n",
    "\n",
    "\n",
    "# A grid of time points (in days)\n",
    "t = np.linspace(0, 500, 100) \n",
    "\n",
    "#parameters\n",
    "M = np.array([[20.7, 6.3],\n",
    "              [6.3, 10.4]])\n",
    "alpha = 3.5e-4\n",
    "beta = 0.3\n",
    "gamma = 0.18\n",
    "sigma = 0.05\n",
    "lbda = 0.06\n",
    "rho = 0.1\n",
    "\n",
    "# Initial conditions vector\n",
    "y0 = init0.reshape(12, )\n",
    "# Integrate the SIR equations over the time grid, t.\n",
    "ret = odeint(deriv, y0, t, args=(age_num, alpha, beta, gamma, sigma, lbda, rho, M))\n",
    "S1, S2, V1, V2, E1, E2, I1, I2, D1, D2, R1, R2 = ret.T\n",
    "\n",
    "# Plot the data on two separate curves for S(t), I(t)\n",
    "fig = plt.figure(facecolor='w')\n",
    "ax = fig.add_subplot(111, facecolor='#dddddd', axisbelow=True)\n",
    "ax.plot(t, S1, 'violet', alpha=0.5, lw=2, label='Susceptible', linestyle='dashed')\n",
    "ax.plot(t, V1, 'blue', alpha=0.5, lw=2, label='Vaccinated', linestyle='dashed')\n",
    "ax.plot(t, E1, 'teal', alpha=0.5, lw=2, label='Exposed', linestyle='dashed')\n",
    "ax.plot(t, I1, 'darkgreen', alpha=0.5, lw=2, label='Infected', linestyle='dashed')\n",
    "ax.plot(t, D1, 'black', alpha=0.5, lw=2, label='Dead', linestyle='dashed')\n",
    "ax.plot(t, R1, 'red', alpha=0.5, lw=2, label='Recovered', linestyle='dashed')\n",
    "ax.set_xlabel('Time /days')\n",
    "ax.yaxis.set_tick_params(length=0)\n",
    "ax.xaxis.set_tick_params(length=0)\n",
    "ax.grid(b=True, which='major', c='w', lw=2, ls='-')\n",
    "legend = ax.legend()\n",
    "legend.get_frame().set_alpha(0.5)\n",
    "for spine in ('top', 'right', 'bottom', 'left'):\n",
    "    ax.spines[spine].set_visible(False)\n",
    "plt.show()"
   ]
  },
  {
   "cell_type": "code",
   "execution_count": 5,
   "metadata": {},
   "outputs": [],
   "source": [
    "#save to csv file\n",
    "a = np.asarray([t, S1, V1, E1, I1, D1, R1, S2, V2, E2, I2, D2, R2]) \n",
    "\n",
    "np.savetxt(\"sveidr_age2_sim.csv\", a, delimiter=\",\")"
   ]
  }
 ],
 "metadata": {
  "interpreter": {
   "hash": "865d8b2eb28e274047ba64063dfb6a2aabf0dfec4905d304d7a76618dae6fdd4"
  },
  "kernelspec": {
   "display_name": "Python 3.9.6 64-bit",
   "language": "python",
   "name": "python3"
  },
  "language_info": {
   "codemirror_mode": {
    "name": "ipython",
    "version": 3
   },
   "file_extension": ".py",
   "mimetype": "text/x-python",
   "name": "python",
   "nbconvert_exporter": "python",
   "pygments_lexer": "ipython3",
   "version": "3.9.6"
  },
  "orig_nbformat": 2
 },
 "nbformat": 4,
 "nbformat_minor": 2
}
