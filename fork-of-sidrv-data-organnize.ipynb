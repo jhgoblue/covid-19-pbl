{
 "cells": [
  {
   "cell_type": "code",
   "execution_count": 1,
   "id": "0221fd5a",
   "metadata": {
    "execution": {
     "iopub.execute_input": "2022-05-09T16:47:36.169556Z",
     "iopub.status.busy": "2022-05-09T16:47:36.169200Z",
     "iopub.status.idle": "2022-05-09T16:47:37.699761Z",
     "shell.execute_reply": "2022-05-09T16:47:37.698825Z"
    },
    "executionInfo": {
     "elapsed": 4229,
     "status": "ok",
     "timestamp": 1629556020393,
     "user": {
      "displayName": "Sagi Shaier",
      "photoUrl": "https://lh3.googleusercontent.com/a-/AOh14GiXQKL7UiRoL28-GMShElFe0PuFh4NWnMP9hbDD=s64",
      "userId": "12455150063240177220"
     },
     "user_tz": 360
    },
    "id": "pFhy95XbZqOS",
    "outputId": "3c30c4a3-913b-4841-9dd8-110b5528e558",
    "papermill": {
     "duration": 1.545897,
     "end_time": "2022-05-09T16:47:37.702163",
     "exception": false,
     "start_time": "2022-05-09T16:47:36.156266",
     "status": "completed"
    },
    "tags": []
   },
   "outputs": [
    {
     "data": {
      "text/plain": [
       "<torch._C.Generator at 0x7fc1b4ca7910>"
      ]
     },
     "execution_count": 1,
     "metadata": {},
     "output_type": "execute_result"
    }
   ],
   "source": [
    "import torch\n",
    "from torch.autograd import grad\n",
    "import torch.nn as nn\n",
    "from numpy import genfromtxt\n",
    "import torch.optim as optim\n",
    "import matplotlib.pyplot as plt\n",
    "import torch.nn.functional as F\n",
    "import pandas as pd \n",
    "import os\n",
    "import re\n",
    "import numpy as np\n",
    "\n",
    "torch.manual_seed(1234)"
   ]
  },
  {
   "cell_type": "code",
   "execution_count": 2,
   "id": "ebbced79",
   "metadata": {
    "execution": {
     "iopub.execute_input": "2022-05-09T16:47:37.725559Z",
     "iopub.status.busy": "2022-05-09T16:47:37.724775Z",
     "iopub.status.idle": "2022-05-09T16:47:59.322014Z",
     "shell.execute_reply": "2022-05-09T16:47:59.321117Z"
    },
    "id": "TQeJH1kt6xPr",
    "papermill": {
     "duration": 21.610835,
     "end_time": "2022-05-09T16:47:59.324497",
     "exception": false,
     "start_time": "2022-05-09T16:47:37.713662",
     "status": "completed"
    },
    "tags": []
   },
   "outputs": [],
   "source": [
    "cumulative_infected_list = []\n",
    "cumulative_dead_list = []\n",
    "cumulative_recovered_list = []\n",
    "\n",
    "daily_infected_list = []\n",
    "daily_dead_list = []\n",
    "daily_recovered_list = []\n",
    "\n",
    "fnames = os.listdir('../input/cssegisanddatacovid19/csse_covid_19_data/csse_covid_19_daily_reports')\n",
    "try:\n",
    "    fnames.remove('README.md')\n",
    "    fnames.remove('.gitignore')\n",
    "except:\n",
    "    pass\n",
    "#order file names\n",
    "def sortkey(x):\n",
    "    parts = re.split('-', x.replace(\".csv\", \"\"))\n",
    "    #print(parts)\n",
    "    return [int(parts[2]), int(parts[0]), int(parts[1])]\n",
    "\n",
    "sorted_fnames = sorted(fnames, key=sortkey)\n",
    "\n",
    "for file_name in sorted_fnames:\n",
    "    df = pd.read_csv(f'../input/cssegisanddatacovid19/csse_covid_19_data/csse_covid_19_daily_reports/{file_name}' )\n",
    "    df.replace(np.nan, 0)\n",
    "\n",
    "    deaths = df['Deaths'].sum()\n",
    "    confirmed = df['Confirmed'].sum()\n",
    "    recovered = df['Recovered'].sum()\n",
    "\n",
    "    cumulative_infected_list.append(confirmed)\n",
    "    cumulative_dead_list.append(deaths)\n",
    "    cumulative_recovered_list.append(recovered)\n",
    "    \n",
    "for day in range(1,len(cumulative_infected_list)):\n",
    "    daily_infected_list.append(cumulative_infected_list[day]- cumulative_infected_list[day-1])\n",
    "    daily_dead_list.append(cumulative_dead_list[day]- cumulative_dead_list[day-1])\n",
    "    daily_recovered_list.append(cumulative_recovered_list[day]- cumulative_recovered_list[day-1])      "
   ]
  },
  {
   "cell_type": "code",
   "execution_count": 3,
   "id": "16cbca5e",
   "metadata": {
    "execution": {
     "iopub.execute_input": "2022-05-09T16:47:59.345110Z",
     "iopub.status.busy": "2022-05-09T16:47:59.344824Z",
     "iopub.status.idle": "2022-05-09T16:47:59.350114Z",
     "shell.execute_reply": "2022-05-09T16:47:59.349215Z"
    },
    "id": "-smnINJMMgxC",
    "papermill": {
     "duration": 0.018366,
     "end_time": "2022-05-09T16:47:59.352380",
     "exception": false,
     "start_time": "2022-05-09T16:47:59.334014",
     "status": "completed"
    },
    "tags": []
   },
   "outputs": [],
   "source": [
    "#remove negative outliers\n",
    "new_daily_recovered_list = daily_recovered_list.copy() \n",
    "\n",
    "for n, i in enumerate(new_daily_recovered_list):\n",
    "    if i < 0:\n",
    "        new_daily_recovered_list[n] = new_daily_recovered_list[n-1]"
   ]
  },
  {
   "cell_type": "code",
   "execution_count": 4,
   "id": "2284ea9b",
   "metadata": {
    "execution": {
     "iopub.execute_input": "2022-05-09T16:47:59.372775Z",
     "iopub.status.busy": "2022-05-09T16:47:59.372475Z",
     "iopub.status.idle": "2022-05-09T16:47:59.376425Z",
     "shell.execute_reply": "2022-05-09T16:47:59.375507Z"
    },
    "id": "NkDSjtVLRpsj",
    "papermill": {
     "duration": 0.016719,
     "end_time": "2022-05-09T16:47:59.378585",
     "exception": false,
     "start_time": "2022-05-09T16:47:59.361866",
     "status": "completed"
    },
    "tags": []
   },
   "outputs": [],
   "source": [
    "# remove very high outliers --> run twice -- seems like an outlier (indices 263, 264)\n",
    "# max_value_idx = new_daily_recovered_list.index(max(new_daily_recovered_list))\n",
    "# new_daily_recovered_list[max_value_idx] = new_daily_recovered_list[max_value_idx - 1]"
   ]
  },
  {
   "cell_type": "code",
   "execution_count": 5,
   "id": "a165bbf5",
   "metadata": {
    "execution": {
     "iopub.execute_input": "2022-05-09T16:47:59.399350Z",
     "iopub.status.busy": "2022-05-09T16:47:59.399088Z",
     "iopub.status.idle": "2022-05-09T16:47:59.639585Z",
     "shell.execute_reply": "2022-05-09T16:47:59.638049Z"
    },
    "executionInfo": {
     "elapsed": 295,
     "status": "ok",
     "timestamp": 1629560479383,
     "user": {
      "displayName": "Sagi Shaier",
      "photoUrl": "https://lh3.googleusercontent.com/a-/AOh14GiXQKL7UiRoL28-GMShElFe0PuFh4NWnMP9hbDD=s64",
      "userId": "12455150063240177220"
     },
     "user_tz": 360
    },
    "id": "eXiytIPe6x2z",
    "outputId": "edec1dc2-4c2c-425b-ea5b-192767d59aba",
    "papermill": {
     "duration": 0.255057,
     "end_time": "2022-05-09T16:47:59.643215",
     "exception": false,
     "start_time": "2022-05-09T16:47:59.388158",
     "status": "completed"
    },
    "tags": []
   },
   "outputs": [
    {
     "name": "stderr",
     "output_type": "stream",
     "text": [
      "/opt/conda/lib/python3.7/site-packages/ipykernel_launcher.py:10: MatplotlibDeprecationWarning: The 'b' parameter of grid() has been renamed 'visible' since Matplotlib 3.5; support for the old name will be dropped two minor releases later.\n",
      "  # Remove the CWD from sys.path while we load stuff.\n"
     ]
    },
    {
     "data": {
      "image/png": "[encoded data removed]",
      "text/plain": [
       "<Figure size 432x432 with 1 Axes>"
      ]
     },
     "metadata": {
      "needs_background": "light"
     },
     "output_type": "display_data"
    }
   ],
   "source": [
    "fig = plt.figure(figsize=(6,6))\n",
    "\n",
    "ax = fig.add_subplot(111, facecolor='#dddddd', axisbelow=True)\n",
    "ax.set_facecolor('xkcd:white')\n",
    "\n",
    "plt.plot(daily_infected_list, label = 'daily_infected_list')\n",
    "plt.plot(daily_dead_list, label = 'daily_dead_list')\n",
    "plt.plot(new_daily_recovered_list, label = 'new_daily_recovered_list')\n",
    "\n",
    "ax.grid(b=True, which='major', c='black', lw=0.2, ls='-')\n",
    "legend = ax.legend()\n",
    "legend.get_frame().set_alpha(0.5)\n",
    "for spine in ('top', 'right', 'bottom', 'left'):\n",
    "    ax.spines[spine].set_visible(False)\n",
    "plt.show();"
   ]
  },
  {
   "cell_type": "code",
   "execution_count": 6,
   "id": "6cdc738f",
   "metadata": {
    "execution": {
     "iopub.execute_input": "2022-05-09T16:47:59.667463Z",
     "iopub.status.busy": "2022-05-09T16:47:59.666870Z",
     "iopub.status.idle": "2022-05-09T16:47:59.906673Z",
     "shell.execute_reply": "2022-05-09T16:47:59.905222Z"
    },
    "executionInfo": {
     "elapsed": 447,
     "status": "ok",
     "timestamp": 1629560485084,
     "user": {
      "displayName": "Sagi Shaier",
      "photoUrl": "https://lh3.googleusercontent.com/a-/AOh14GiXQKL7UiRoL28-GMShElFe0PuFh4NWnMP9hbDD=s64",
      "userId": "12455150063240177220"
     },
     "user_tz": 360
    },
    "id": "ZNL1MYgaS-0w",
    "outputId": "401e1095-ee77-4761-aa66-7ea1d3425a2a",
    "papermill": {
     "duration": 0.255431,
     "end_time": "2022-05-09T16:47:59.909957",
     "exception": false,
     "start_time": "2022-05-09T16:47:59.654526",
     "status": "completed"
    },
    "tags": []
   },
   "outputs": [
    {
     "name": "stderr",
     "output_type": "stream",
     "text": [
      "/opt/conda/lib/python3.7/site-packages/ipykernel_launcher.py:17: MatplotlibDeprecationWarning: The 'b' parameter of grid() has been renamed 'visible' since Matplotlib 3.5; support for the old name will be dropped two minor releases later.\n"
     ]
    },
    {
     "data": {
      "image/png": "[encoded data removed]",
      "text/plain": [
       "<Figure size 720x720 with 1 Axes>"
      ]
     },
     "metadata": {
      "needs_background": "light"
     },
     "output_type": "display_data"
    },
    {
     "name": "stdout",
     "output_type": "stream",
     "text": [
      "825\n"
     ]
    }
   ],
   "source": [
    "N = 7948879000\n",
    "cumulative_susceptible_list = []\n",
    "for i in range(len(cumulative_recovered_list)):\n",
    "    cumulative_infected_list[i]=(cumulative_infected_list[i] - cumulative_recovered_list[i]- cumulative_dead_list[i])\n",
    "    cumulative_susceptible_list.append(N - cumulative_recovered_list[i] - cumulative_infected_list[i] - cumulative_dead_list[i])\n",
    "\n",
    "fig = plt.figure(figsize=(10,10))\n",
    "\n",
    "ax = fig.add_subplot(111, facecolor='#dddddd', axisbelow=True)\n",
    "ax.set_facecolor('xkcd:white')\n",
    "\n",
    "# plt.plot(cumulative_susceptible_list[:310], label = 'cumulative_susceptible_list')\n",
    "plt.plot(cumulative_infected_list, label = 'cumulative_infected_list')\n",
    "plt.plot(cumulative_dead_list, label = 'cumulative_dead_list')\n",
    "plt.plot(cumulative_recovered_list, label = 'cumulative_recovered_list')\n",
    "\n",
    "ax.grid(b=True, which='major', c='black', lw=0.2, ls='-')\n",
    "legend = ax.legend()\n",
    "legend.get_frame().set_alpha(0.5)\n",
    "for spine in ('top', 'right', 'bottom', 'left'):\n",
    "    ax.spines[spine].set_visible(False)\n",
    "plt.show();\n",
    "print(len(cumulative_susceptible_list))"
   ]
  },
  {
   "cell_type": "code",
   "execution_count": 7,
   "id": "059b2000",
   "metadata": {
    "execution": {
     "iopub.execute_input": "2022-05-09T16:47:59.940336Z",
     "iopub.status.busy": "2022-05-09T16:47:59.939581Z",
     "iopub.status.idle": "2022-05-09T16:47:59.965203Z",
     "shell.execute_reply": "2022-05-09T16:47:59.964209Z"
    },
    "id": "-Jl53ifkZZNz",
    "papermill": {
     "duration": 0.043388,
     "end_time": "2022-05-09T16:47:59.967754",
     "exception": false,
     "start_time": "2022-05-09T16:47:59.924366",
     "status": "completed"
    },
    "tags": []
   },
   "outputs": [],
   "source": [
    "#save as csv files\n",
    "\n",
    "#cumulative cases [S,I,D,R]\n",
    "df = pd.DataFrame(list(zip(cumulative_susceptible_list, cumulative_infected_list, cumulative_dead_list, cumulative_recovered_list)),\n",
    "               columns =['cumulative_susceptible', 'cumulative_infected', 'cumulative_dead', 'cumulative_recovered'])\n",
    "df.to_csv('covid_real_data_cumulative_cases.csv')\n",
    "\n",
    "#daily cases [I,D,R]\n",
    "df = pd.DataFrame(list(zip(daily_infected_list, daily_dead_list, new_daily_recovered_list)),\n",
    "               columns =['daily_infected', 'daily_dead', 'daily_recovered'])\n",
    "df.to_csv('covid_real_data_daily_cases.csv')"
   ]
  }
 ],
 "metadata": {
  "kernelspec": {
   "display_name": "Python 3",
   "language": "python",
   "name": "python3"
  },
  "language_info": {
   "codemirror_mode": {
    "name": "ipython",
    "version": 3
   },
   "file_extension": ".py",
   "mimetype": "text/x-python",
   "name": "python",
   "nbconvert_exporter": "python",
   "pygments_lexer": "ipython3",
   "version": "3.7.12"
  },
  "papermill": {
   "default_parameters": {},
   "duration": 35.188716,
   "end_time": "2022-05-09T16:48:00.802816",
   "environment_variables": {},
   "exception": null,
   "input_path": "__notebook__.ipynb",
   "output_path": "__notebook__.ipynb",
   "parameters": {},
   "start_time": "2022-05-09T16:47:25.614100",
   "version": "2.3.4"
  }
 },
 "nbformat": 4,
 "nbformat_minor": 5
}
