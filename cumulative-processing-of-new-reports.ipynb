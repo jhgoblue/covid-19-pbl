{
 "cells": [
  {
   "cell_type": "code",
   "execution_count": 1,
   "id": "5e6edb7d",
   "metadata": {
    "execution": {
     "iopub.execute_input": "2022-04-16T13:41:10.375277Z",
     "iopub.status.busy": "2022-04-16T13:41:10.374704Z",
     "iopub.status.idle": "2022-04-16T13:41:10.384632Z",
     "shell.execute_reply": "2022-04-16T13:41:10.383712Z"
    },
    "papermill": {
     "duration": 0.020997,
     "end_time": "2022-04-16T13:41:10.386900",
     "exception": false,
     "start_time": "2022-04-16T13:41:10.365903",
     "status": "completed"
    },
    "tags": []
   },
   "outputs": [],
   "source": [
    "import pandas as pd"
   ]
  },
  {
   "cell_type": "code",
   "execution_count": 2,
   "id": "efcdd11e",
   "metadata": {
    "execution": {
     "iopub.execute_input": "2022-04-16T13:41:10.400927Z",
     "iopub.status.busy": "2022-04-16T13:41:10.400436Z",
     "iopub.status.idle": "2022-04-16T13:41:10.415873Z",
     "shell.execute_reply": "2022-04-16T13:41:10.415183Z"
    },
    "papermill": {
     "duration": 0.025215,
     "end_time": "2022-04-16T13:41:10.418157",
     "exception": false,
     "start_time": "2022-04-16T13:41:10.392942",
     "status": "completed"
    },
    "tags": []
   },
   "outputs": [],
   "source": [
    "outbreak=pd.read_csv('../input/ourbreak/week4_incidencereport.csv')"
   ]
  },
  {
   "cell_type": "code",
   "execution_count": 3,
   "id": "2a6a20de",
   "metadata": {
    "execution": {
     "iopub.execute_input": "2022-04-16T13:41:10.431382Z",
     "iopub.status.busy": "2022-04-16T13:41:10.430918Z",
     "iopub.status.idle": "2022-04-16T13:41:10.450526Z",
     "shell.execute_reply": "2022-04-16T13:41:10.449546Z"
    },
    "papermill": {
     "duration": 0.029249,
     "end_time": "2022-04-16T13:41:10.453087",
     "exception": false,
     "start_time": "2022-04-16T13:41:10.423838",
     "status": "completed"
    },
    "tags": []
   },
   "outputs": [],
   "source": [
    "case_sumlist = []\n",
    "for row_index,row in outbreak.iterrows():\n",
    "    case_sum = 0\n",
    "    for i in range(row_index+1):\n",
    "        case_sum = case_sum + outbreak['cases'][i]\n",
    "    case_sumlist.append(case_sum)\n",
    "outbreak['sum'] = case_sumlist"
   ]
  },
  {
   "cell_type": "code",
   "execution_count": 4,
   "id": "23a092b2",
   "metadata": {
    "execution": {
     "iopub.execute_input": "2022-04-16T13:41:10.466189Z",
     "iopub.status.busy": "2022-04-16T13:41:10.465861Z",
     "iopub.status.idle": "2022-04-16T13:41:10.474318Z",
     "shell.execute_reply": "2022-04-16T13:41:10.473534Z"
    },
    "papermill": {
     "duration": 0.017915,
     "end_time": "2022-04-16T13:41:10.476795",
     "exception": false,
     "start_time": "2022-04-16T13:41:10.458880",
     "status": "completed"
    },
    "tags": []
   },
   "outputs": [],
   "source": [
    "outbreak.to_csv('outbreak.csv')"
   ]
  }
 ],
 "metadata": {
  "kernelspec": {
   "display_name": "Python 3",
   "language": "python",
   "name": "python3"
  },
  "language_info": {
   "codemirror_mode": {
    "name": "ipython",
    "version": 3
   },
   "file_extension": ".py",
   "mimetype": "text/x-python",
   "name": "python",
   "nbconvert_exporter": "python",
   "pygments_lexer": "ipython3",
   "version": "3.7.12"
  },
  "papermill": {
   "default_parameters": {},
   "duration": 11.785098,
   "end_time": "2022-04-16T13:41:11.204479",
   "environment_variables": {},
   "exception": null,
   "input_path": "__notebook__.ipynb",
   "output_path": "__notebook__.ipynb",
   "parameters": {},
   "start_time": "2022-04-16T13:40:59.419381",
   "version": "2.3.4"
  }
 },
 "nbformat": 4,
 "nbformat_minor": 5
}
